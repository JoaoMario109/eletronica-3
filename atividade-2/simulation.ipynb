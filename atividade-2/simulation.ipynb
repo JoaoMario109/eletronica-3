{
 "cells": [
  {
   "attachments": {},
   "cell_type": "markdown",
   "metadata": {},
   "source": [
    "## Análise 02 - Osciladores Harmônicos RC Defasamento\n",
    "\n",
    "* Alejo P. Milar\n",
    "* João Mário C. I. Lago\n",
    "\n",
    "### Eletrônica III (2023.1 - T01)\n",
    "\n",
    "<hr />"
   ]
  },
  {
   "attachments": {},
   "cell_type": "markdown",
   "metadata": {},
   "source": [
    "### Packages"
   ]
  },
  {
   "cell_type": "code",
   "execution_count": 29,
   "metadata": {},
   "outputs": [
    {
     "name": "stdout",
     "output_type": "stream",
     "text": [
      "Note: you may need to restart the kernel to use updated packages.\n"
     ]
    }
   ],
   "source": [
    "%pip install -q scipy numpy quantiphy pandas control"
   ]
  },
  {
   "attachments": {},
   "cell_type": "markdown",
   "metadata": {},
   "source": [
    "### Imports"
   ]
  },
  {
   "cell_type": "code",
   "execution_count": 30,
   "metadata": {},
   "outputs": [],
   "source": [
    "from quantiphy import Quantity\n",
    "import scipy as sci\n",
    "from scipy.optimize import curve_fit\n",
    "from scipy.optimize import minimize\n",
    "import numpy as np\n",
    "import pandas as pd\n",
    "import control\n",
    "import matplotlib.pyplot as plt\n",
    "from matplotlib.ticker import LogLocator\n",
    "from quantiphy import Quantity\n",
    "import cmath\n",
    "from typing import Optional, List, Tuple"
   ]
  },
  {
   "attachments": {},
   "cell_type": "markdown",
   "metadata": {},
   "source": [
    "<hr />\n",
    "\n",
    "### Utils\n",
    "\n",
    "Definição de funções auxiliares para realização de alguns cálculos realizados durante a execução do trabalho"
   ]
  },
  {
   "cell_type": "code",
   "execution_count": 31,
   "metadata": {},
   "outputs": [],
   "source": [
    "# Prints a given parameter with its unit and using multipliers\n",
    "def print_param(name: str, value: float, unit: str = \"\") -> None:\n",
    "\tprint(name + \": \" + str(Quantity(value, unit)))\n",
    "\n",
    "\n",
    "# Prints a given parameter with its unit and using multipliers\n",
    "def print_param_dict(name: str, dict: dict) -> None:\n",
    "\tprint(name, \":\")\n",
    "\tfor key in dict:\n",
    "\t\tprint(\"\t\", key + \": \" + str(Quantity(dict[key])))\n",
    "\n",
    "\n",
    "# Converts a log value to a linear value\n",
    "def log_2_linear(gain: float) -> float:\n",
    "\treturn 10.0 ** (gain / 20.0)\n",
    "\n",
    "\n",
    "# Converts a linear value to a log value\n",
    "def linear_2_log(gain: float) -> float:\n",
    "\treturn 20.0 * np.log10(gain)\n",
    "\n",
    "\n",
    "def polar2string(x: tuple[float, float]) -> str:\n",
    "\treturn str((x[0])) + ' < ' +str(np.rad2deg(x[1])) + '°'\n",
    "\n",
    "\n",
    "def complex2polar_string(x):\n",
    "\treturn polar2string((np.abs(x), np.angle(x)))\n",
    "\n",
    "\n",
    "# Commercial EE values list\n",
    "def get_EE_list(limit: int = 21, lower = 0, pack: Optional[ List[ float ] ] = None) -> List[ float ]:\n",
    "\treturn [x * (10 ** i) for i in range(pack[1] if pack else lower, pack[0] if pack else limit) for x in [ 1.5e-12, 1.8e-12, 2.2e-12, 2.7e-12, 3.3e-12, 4.7e-12, 5.1e-12, 6.8e-12, 7.5e-12, 8.2e-12, 9.1e-12, 10e-12 ]]\n",
    "\n",
    "\n",
    "def get_EE_limit_from_value(value: float) -> List[ int ]:\n",
    "\torder = np.floor(np.log10(value))\n",
    "\treturn [ int(13 + order), int((13 + order) - 1) ]\n",
    "\n",
    "\n",
    "# Find the best fit for the closest comercial value in the EE list\n",
    "def round_to_commercial(value: float) -> float:\n",
    "\tEE: List[ float ] = get_EE_list()\n",
    "\tindex: int = 0\n",
    "\tclose: float = np.inf\n",
    "\tfor i, val in enumerate(EE):\n",
    "\t\tdiff = val - value\n",
    "\t\tif np.abs(diff) < close:\n",
    "\t\t\tclose = np.abs(diff)\n",
    "\t\t\tindex = i\n",
    "\treturn EE[index]\n",
    "\n",
    "def parse_ltspice_log(filename):\n",
    "\tf = open(filename, 'r')\n",
    "\tvalues = {}\n",
    "\tfor line in f:\n",
    "\t\tif \":\" in line and \"=\" in line:\n",
    "\t\t\tkey = line.split(\":\")[0]\n",
    "\t\t\ttry:\n",
    "\t\t\t\tvalues[key] = float(line.split(\"=\")[1].split()[0].replace(\"\\n\", \"\"))\n",
    "\t\t\texcept ValueError:\n",
    "\t\t\t\tcontinue\n",
    "\t\t\tif (key == \"phase_active\"):\n",
    "\t\t\t\tvalues[key] = -values[key]\n",
    "\tif (\"phase_active\" in values and \"phase_passive\" in values):\n",
    "\t\tvalues[\"phase_total\"] = values[\"phase_active\"] + values[\"phase_passive\"]\n",
    "\treturn values\n",
    "\n",
    "# Prints a given parameter with its unit and using multipliers\n",
    "def print_param_dict(name: str, dict: dict) -> None:\n",
    "\tprint(name, \":\")\n",
    "\tkeys = sorted(dict.keys())\n",
    "\tfor key in keys:\n",
    "\t\tunits = \"\"\n",
    "\t\t# Check if voltage\n",
    "\t\tif (key[0].lower() == \"v\"):\n",
    "\t\t\tunits = \"V\"\n",
    "\t\t# Check if gain\n",
    "\t\telif (\"gain\" in key.lower()):\n",
    "\t\t\tunits = \"V/V\"\n",
    "\t\t# Check if phase\n",
    "\t\telif (\"phase\" in key.lower()):\n",
    "\t\t\tunits = \"°\"\n",
    "\t\t# Check if freq\n",
    "\t\telif (\"freq\" in key.lower()):\n",
    "\t\t\tunits = \"Hz\"\t\n",
    "\n",
    "\t\tprint(\"\t\", key + \": \" + str(Quantity(dict[key])), units)\n",
    "\n"
   ]
  },
  {
   "attachments": {},
   "cell_type": "markdown",
   "metadata": {},
   "source": [
    "# 1- Projetar um oscilador RC por defasagem de fase para uma frequência de 1400Hz apresentado na figura 1. Com ampop LM324."
   ]
  },
  {
   "attachments": {},
   "cell_type": "markdown",
   "metadata": {},
   "source": [
    "### Cálculo do circuito sem fator de correção da impedância de entrada do bloco Alpha"
   ]
  },
  {
   "cell_type": "code",
   "execution_count": 32,
   "metadata": {},
   "outputs": [
    {
     "name": "stdout",
     "output_type": "stream",
     "text": [
      "------------------------------------------------------------------\n",
      "Parâmetros do circuito: \n",
      "\t- Ideal C: 2.5784 nF\n",
      "\t- Ideal R: 18 kΩ\n",
      "\t- Ideal RF: 522 kΩ\n",
      "\n",
      "\t- Comercial C: 2.7 nF\n",
      "\t- Comercial R: 18 kΩ\n",
      "\t- Comercial RF: 510 kΩ\n",
      "------------------------------------------------------------------\n",
      "Parâmetros para o LTSpice: \n",
      "\t- Ideal:\n",
      "\t.param C=2.5784n R=18k RF=522k\n",
      "\t- Comercial:\n",
      "\t.param C=2.7n R=18k RF=510k\n",
      "------------------------------------------------------------------\n",
      "Valor de frequência comercial\t  : 1.3369 kHz\n",
      "Valor de frequência comercial (MIN): 1.1575 kHz\n",
      "Valor de frequência comercial (MAX): 1.5637 kHz\n",
      "------------------------------------------------------------------\n"
     ]
    }
   ],
   "source": [
    "# Oscilation frequency\n",
    "fosc: float = 1400\n",
    "\n",
    "# Angular velocity\n",
    "wc: float = 2 * np.pi * fosc\n",
    "\n",
    "# Searches for the best component fit\n",
    "last_diff: int = 9999999\n",
    "res: List[ float ] = []\n",
    "for R in get_EE_list(17, 16):\n",
    "\tC = 1 / (2 * np.pi * np.sqrt(6) * R * fosc)\n",
    "\tRF = 29 * R\n",
    "\tC_commercial = round_to_commercial(C)\n",
    "\tRF_commercial = round_to_commercial(RF)\n",
    "\ttotal_diff = np.abs(C_commercial - C) + np.abs(RF_commercial - RF)\n",
    "\tRF_commercial = round_to_commercial(RF)\n",
    "\tif (total_diff < last_diff):\n",
    "\t\tlast_diff = total_diff\n",
    "\t\tres = [ C, R, RF, C_commercial, RF_commercial ]\n",
    "\n",
    "# Fetches saved value\n",
    "[ C, R, RF, C_commercial, RF_commercial ] = res\n",
    "\n",
    "print(\"------------------------------------------------------------------\")\n",
    "print(\"Parâmetros do circuito: \")\n",
    "print_param(\"\t- Ideal C\", C, \"F\")\n",
    "print_param(\"\t- Ideal R\", R, \"Ω\")\n",
    "print_param(\"\t- Ideal RF\", RF, \"Ω\")\n",
    "print()\n",
    "print_param(\"\t- Comercial C\", C_commercial, \"F\")\n",
    "print_param(\"\t- Comercial R\", R, \"Ω\")\n",
    "print_param(\"\t- Comercial RF\", RF_commercial, \"Ω\")\n",
    "print(\"------------------------------------------------------------------\")\n",
    "print(\"Parâmetros para o LTSpice: \")\n",
    "print(\"\t- Ideal:\")\n",
    "print(f\"\\t.param C={Quantity(C)} R={Quantity(R)} RF={Quantity(RF)}\")\n",
    "print(\"\t- Comercial:\")\n",
    "print(f\"\\t.param C={Quantity(C_commercial)} R={Quantity(R)} RF={Quantity(RF_commercial)}\")\n",
    "\n",
    "FC_commercial = 1 / (np.pi * 2 * C_commercial * R * np.sqrt(6))\n",
    "FC_commercial_min = 1 / (np.pi * 2 * (C_commercial * 1.1) * (R * 1.05) * np.sqrt(6))\n",
    "FC_commercial_max = 1 / (np.pi * 2 * (C_commercial * 0.9) * (R * 0.95) * np.sqrt(6))\n",
    "print(\"------------------------------------------------------------------\")\n",
    "print_param(\"Valor de frequência comercial\t  \", FC_commercial, \"Hz\")\n",
    "print_param(\"Valor de frequência comercial (MIN)\", FC_commercial_min, \"Hz\")\n",
    "print_param(\"Valor de frequência comercial (MAX)\", FC_commercial_max, \"Hz\")\n",
    "print(\"------------------------------------------------------------------\")"
   ]
  },
  {
   "attachments": {},
   "cell_type": "markdown",
   "metadata": {},
   "source": [
    "<hr />"
   ]
  },
  {
   "attachments": {},
   "cell_type": "markdown",
   "metadata": {},
   "source": [
    "Parâmetros do circuito: \n",
    "- C: 2.5784 nF\n",
    "- R: 18 kΩ\n",
    "- RF: 512 kΩ"
   ]
  },
  {
   "attachments": {},
   "cell_type": "markdown",
   "metadata": {},
   "source": [
    "# 2- Simule o circuito projetado"
   ]
  },
  {
   "attachments": {},
   "cell_type": "markdown",
   "metadata": {},
   "source": [
    "## Simulação\n",
    "<p align=\"center\">\n",
    "<img src=\"analises/assets/script/2-Simule_o_circuito_projetado.png\" width=\"75%\">\n",
    "</p>"
   ]
  },
  {
   "attachments": {},
   "cell_type": "markdown",
   "metadata": {},
   "source": [
    "## Grafico\n",
    "\n",
    "<p align=\"center\">\n",
    "<img src=\"analises/assets/script/2-Simule_o_circuito_projetado_plot.png\" width=\"75%\">\n",
    "</p>"
   ]
  },
  {
   "attachments": {},
   "cell_type": "markdown",
   "metadata": {},
   "source": [
    "## Analise\n",
    "\n",
    "Como é possivel observar o ganho total do sistema não é suficiente para que ocorra uma oscilação natural isto pode ser observado na simulação a seguir onde os bolocos não são realimentados"
   ]
  },
  {
   "attachments": {},
   "cell_type": "markdown",
   "metadata": {},
   "source": [
    "## Simulação dos blocos separados\n",
    "\n",
    "<p align=\"center\">\n",
    "<img src=\"analises/assets/script/2-Simule_o_circuito_projetado_separado.png\" width=\"75%\">\n",
    "</p>"
   ]
  },
  {
   "attachments": {},
   "cell_type": "markdown",
   "metadata": {},
   "source": [
    "## Grafico dos blocos separados\n",
    "\n",
    "<p align=\"center\">\n",
    "<img src=\"analises/assets/script/2-Simule_o_circuito_projetado_plot_separado.png\" width=\"75%\">\n",
    "</p>"
   ]
  },
  {
   "attachments": {},
   "cell_type": "markdown",
   "metadata": {},
   "source": [
    "## Medição"
   ]
  },
  {
   "cell_type": "code",
   "execution_count": 34,
   "metadata": {},
   "outputs": [
    {
     "name": "stdout",
     "output_type": "stream",
     "text": [
      "Blocos separados :\n",
      "\t frequency_active: 1.4k Hz\n",
      "\t frequency_passive: 1.4k Hz\n",
      "\t gain_active: 28.403 V/V\n",
      "\t gain_passive: 34.302m V/V\n",
      "\t gain_total: 974.29m V/V\n",
      "\t phase_active: -182.71 °\n",
      "\t phase_passive: -179.87 °\n",
      "\t phase_total: -362.58 °\n",
      "\t vin_active: 800m V\n",
      "\t vin_passive: 22.723 V\n",
      "\t vout_active: 22.723 V\n",
      "\t vout_passive: 779.43m V\n"
     ]
    }
   ],
   "source": [
    "print_param_dict(\"Blocos separados\", parse_ltspice_log(\"analises/1/script/2-Simule o circuito projetado_separado.log\"))"
   ]
  },
  {
   "attachments": {},
   "cell_type": "markdown",
   "metadata": {},
   "source": [
    "### Analise\n",
    "\n",
    "O ganho total do sistema é aproximadamente 0.97 o que cria uma realimentação negativa do sinal causando o amortecimento do mesmo até 0"
   ]
  },
  {
   "attachments": {},
   "cell_type": "markdown",
   "metadata": {},
   "source": [
    "# 3- Caso tenha ocorrido saturação da tensão de saída do ampop, reduza o ganho do bloco amplificador o máximo que puder, para isto varie o potenciômetro."
   ]
  },
  {
   "attachments": {},
   "cell_type": "markdown",
   "metadata": {},
   "source": [
    "## Simulação\n",
    "\n",
    "<p align=\"center\">\n",
    "<img src=\"analises/assets/script/3-Ajuste_potenciometro.png\" width=\"75%\">\n",
    "</p>"
   ]
  },
  {
   "attachments": {},
   "cell_type": "markdown",
   "metadata": {},
   "source": [
    "## Grafico\n",
    "\n",
    "<p align=\"center\">\n",
    "<img src=\"analises/assets/script/3-Ajuste_potenciometro_plot.png\" width=\"75%\">\n",
    "</p>"
   ]
  },
  {
   "attachments": {},
   "cell_type": "markdown",
   "metadata": {},
   "source": [
    "## Medição"
   ]
  },
  {
   "cell_type": "code",
   "execution_count": 35,
   "metadata": {},
   "outputs": [
    {
     "name": "stdout",
     "output_type": "stream",
     "text": [
      "Blocos separados :\n",
      "\t frequency_active: 1.5161k Hz\n",
      "\t frequency_passive: 1.5162k Hz\n",
      "\t gain_active: 44.928 V/V\n",
      "\t gain_passive: 22.258m V/V\n",
      "\t gain_total: 1 V/V\n",
      "\t phase_active: -185.27 °\n",
      "\t phase_passive: -185.28 °\n",
      "\t phase_total: -370.55 °\n",
      "\t vin_active: 382.55m V\n",
      "\t vin_passive: 17.188 V\n",
      "\t vout_active: 17.188 V\n",
      "\t vout_passive: 382.55m V\n"
     ]
    }
   ],
   "source": [
    "print_param_dict(\"Blocos separados\", parse_ltspice_log(\"analises/1/script/3-ajuste_potenciometro.log\"))"
   ]
  },
  {
   "attachments": {},
   "cell_type": "markdown",
   "metadata": {},
   "source": [
    "## Analise\n",
    "\n",
    "Existe um desvio de 129Hz aproximadamente"
   ]
  },
  {
   "attachments": {},
   "cell_type": "markdown",
   "metadata": {},
   "source": [
    "# 5- Analise o funcionamento e os critérios de Brakhausen para: (Utilize os circuitos das figuras 2 e 3)"
   ]
  },
  {
   "attachments": {},
   "cell_type": "markdown",
   "metadata": {},
   "source": [
    "## Para a frequência projetada"
   ]
  },
  {
   "attachments": {},
   "cell_type": "markdown",
   "metadata": {},
   "source": [
    "### Simulação\n",
    "\n",
    "**Circuito**\n",
    "\n",
    "<p align=\"center\">\n",
    "<img src=\"analises/assets/script/5-analise_Brakhausen_1400Hz_A_B.png\" width=\"75%\">\n",
    "</p>\n",
    "\n",
    "<div align=\"center\">\n",
    "<p style=\"text-align:left;\">\n",
    "    <b> A-B </b>\n",
    "    <span style=\"position:absolute; left:50%;\">\n",
    "        <b> B-A </b>\n",
    "    </span>\n",
    "</p>\n",
    "<img src=\"analises/assets/script/5-analise_Brakhausen_1400Hz_A_B_zoom.png\" width=\"45%\">\n",
    "<img src=\"analises/assets/script/5-analise_Brakhausen_1400Hz_B_A_zoom.png\" width=\"45%\"> \n",
    "</div>"
   ]
  },
  {
   "attachments": {},
   "cell_type": "markdown",
   "metadata": {},
   "source": [
    "### Grafico\n",
    "\n",
    "<div align=\"center\">\n",
    "<p style=\"text-align:left;\">\n",
    "    <b> A-B </b>\n",
    "    <span style=\"position:absolute; left:50%;\">\n",
    "        <b> B-A </b>\n",
    "    </span>\n",
    "</p>\n",
    "<img src=\"analises/assets/script/5-analise_Brakhausen_1400Hz_A_B_plot.png\" width=\"45%\">\n",
    "<img src=\"analises/assets/script/5-analise_Brakhausen_1400Hz_B_A_plot.png\" width=\"45%\"> \n",
    "</div>"
   ]
  },
  {
   "attachments": {},
   "cell_type": "markdown",
   "metadata": {},
   "source": [
    "### Medição"
   ]
  },
  {
   "cell_type": "code",
   "execution_count": 36,
   "metadata": {},
   "outputs": [
    {
     "name": "stdout",
     "output_type": "stream",
     "text": [
      "Blocos A-B :\n",
      "\t frequency_active: 1.4k Hz\n",
      "\t frequency_passive: 1.4k Hz\n",
      "\t gain_active: 44.951 V/V\n",
      "\t gain_passive: 34.136m V/V\n",
      "\t gain_total: 1.5344 V/V\n",
      "\t phase_active: 175.79 °\n",
      "\t phase_passive: 180.16 °\n",
      "\t phase_total: 355.95 °\n",
      "\t vin_active: 600m V\n",
      "\t vin_passive: 26.97 V\n",
      "\t vout_active: 26.97 V\n",
      "\t vout_passive: 920.66m V\n",
      "Blocos B-A :\n",
      "\t frequency_active: 1.4k Hz\n",
      "\t frequency_passive: 1.4k Hz\n",
      "\t gain_active: 44.935 V/V\n",
      "\t gain_passive: 18.849m V/V\n",
      "\t gain_total: 846.98m V/V\n",
      "\t phase_active: -184.76 °\n",
      "\t phase_passive: -190.15 °\n",
      "\t phase_total: -374.9 °\n",
      "\t vin_active: 452.37m V\n",
      "\t vin_passive: 24 V\n",
      "\t vout_active: 20.327 V\n",
      "\t vout_passive: 452.37m V\n"
     ]
    }
   ],
   "source": [
    "print_param_dict(\"Blocos A-B\", parse_ltspice_log(\"analises/1/script/5-analise_Brakhausen_1400Hz_A_B.log\"))\n",
    "print_param_dict(\"Blocos B-A\", parse_ltspice_log(\"analises/1/script/5-analise_Brakhausen_1400Hz_B_A.log\"))"
   ]
  },
  {
   "attachments": {},
   "cell_type": "markdown",
   "metadata": {},
   "source": [
    "### Analise\n",
    "\n",
    "Nenhum dos dois circuitos cumprem os criterios de Brakhausen, quando o bloco passivo é conectado no ativo a fase é um pouco maior que 360° e o ganho é 50% acima de 1 V/V, já quando o ativo é conectado no passivo a fase é um pouco menor 360° e o ganho diminui bastante (0.84 V/V)"
   ]
  },
  {
   "attachments": {},
   "cell_type": "markdown",
   "metadata": {},
   "source": [
    "## Para a frequencia natural (1.5161kHz)"
   ]
  },
  {
   "attachments": {},
   "cell_type": "markdown",
   "metadata": {},
   "source": [
    "### Simulação\n",
    "\n",
    "**Circuito**\n",
    "\n",
    "<p align=\"center\">\n",
    "<img src=\"analises/assets/script/5-analise_Brakhausen_1516Hz_A_B.png\" width=\"75%\">\n",
    "</p>\n",
    "\n",
    "<div align=\"center\">\n",
    "<p style=\"text-align:left;\">\n",
    "    <b> A-B </b>\n",
    "    <span style=\"position:absolute; left:50%;\">\n",
    "        <b> B-A </b>\n",
    "    </span>\n",
    "</p>\n",
    "<img src=\"analises/assets/script/5-analise_Brakhausen_1516Hz_A_B_zoom.png\" width=\"45%\">\n",
    "<img src=\"analises/assets/script/5-analise_Brakhausen_1516Hz_B_A_zoom.png\" width=\"45%\"> \n",
    "</div>"
   ]
  },
  {
   "attachments": {},
   "cell_type": "markdown",
   "metadata": {},
   "source": [
    "### Grafico\n",
    "\n",
    "<div align=\"center\">\n",
    "<p style=\"text-align:left;\">\n",
    "    <b> A-B </b>\n",
    "    <span style=\"position:absolute; left:50%;\">\n",
    "        <b> B-A </b>\n",
    "    </span>\n",
    "</p>\n",
    "<img src=\"analises/assets/script/5-analise_Brakhausen_1516Hz_A_B_plot.png\" width=\"45%\">\n",
    "<img src=\"analises/assets/script/5-analise_Brakhausen_1516Hz_B_A_plot.png\" width=\"45%\"> \n",
    "</div>"
   ]
  },
  {
   "attachments": {},
   "cell_type": "markdown",
   "metadata": {},
   "source": [
    "### Medição"
   ]
  },
  {
   "cell_type": "code",
   "execution_count": 37,
   "metadata": {},
   "outputs": [
    {
     "name": "stdout",
     "output_type": "stream",
     "text": [
      "Bloco A: Ativo\n",
      "Bloco B: Passivo\n",
      "\n",
      "Blocos A-B :\n",
      "\t frequency_active: 1.5161k Hz\n",
      "\t frequency_passive: 1.5161k Hz\n",
      "\t gain_active: 44.926 V/V\n",
      "\t gain_passive: 40.104m V/V\n",
      "\t gain_total: 1.8017 V/V\n",
      "\t phase_active: -184.54 °\n",
      "\t phase_passive: -175.24 °\n",
      "\t phase_total: -359.78 °\n",
      "\t vin_active: 600m V\n",
      "\t vin_passive: 26.956 V\n",
      "\t vout_active: 26.956 V\n",
      "\t vout_passive: 1.081 V\n",
      "Blocos B-A :\n",
      "\t frequency_active: 1.516k Hz\n",
      "\t frequency_passive: 1.516k Hz\n",
      "\t gain_active: 44.909 V/V\n",
      "\t gain_passive: 22.367m V/V\n",
      "\t gain_total: 1.0045 V/V\n",
      "\t phase_active: 175.01 °\n",
      "\t phase_passive: 174.15 °\n",
      "\t phase_total: 349.15 °\n",
      "\t vin_active: 536.81m V\n",
      "\t vin_passive: 24 V\n",
      "\t vout_active: 24.108 V\n",
      "\t vout_passive: 536.81m V\n"
     ]
    }
   ],
   "source": [
    "print(\"Bloco A: Ativo\")\n",
    "print(\"Bloco B: Passivo\")\n",
    "print()\n",
    "\n",
    "print_param_dict(\"Blocos A-B\", parse_ltspice_log(\"analises/1/script/5-analise_Brakhausen_1516Hz_A_B.log\"))\n",
    "print_param_dict(\"Blocos B-A\", parse_ltspice_log(\"analises/1/script/5-analise_Brakhausen_1516Hz_B_A.log\"))"
   ]
  },
  {
   "attachments": {},
   "cell_type": "markdown",
   "metadata": {},
   "source": [
    "### Analise\n",
    "\n",
    "Quando o bloco ativo é conectado no passivo para a frequencia natural o oscilador cumpre os criterios de Brakhausen para a fase (360°), porém para ganho é relativemnte maior do que necessario para cumprir o criterio isso pode explicar a leve saturação na oscilação.\n",
    "Já quando o ativo é conectado no passivo existe uma desviação do criterio de Brakhausen, a causa dessa desviação vai ser abordada no seguinte item\n",
    "\n"
   ]
  },
  {
   "attachments": {},
   "cell_type": "markdown",
   "metadata": {},
   "source": [
    "# 6- Verifique via simulação a influência das impedâncias de entrada e saída dos blocos A e B.\n",
    "\n",
    "Sera analisado a influencia do bloco A no bloco B porque segundo a simulação anterior o bloco A está influenciando o bloco B\n"
   ]
  },
  {
   "attachments": {},
   "cell_type": "markdown",
   "metadata": {},
   "source": [
    "## Simulação\n",
    "\n",
    "**Circuito**\n",
    "\n",
    "<p align=\"center\">\n",
    "<img src=\"analises/assets/script/6-analise_impedancia_1516Hz_B_A.png\" width=\"75%\">\n",
    "</p>\n",
    "\n",
    "<div align=\"center\">\n",
    "<p style=\"text-align:left;\">\n",
    "    <b> B-A </b>\n",
    "    <span style=\"position:absolute; left:50%;\">\n",
    "        <b> B </b>\n",
    "    </span>\n",
    "</p>\n",
    "<img src=\"analises/assets/script/6-analise_impedancia_1516Hz_B_A_zoom.png\" width=\"45%\">\n",
    "<img src=\"analises/assets/script/6-analise_impedancia_1516Hz_B_zoom.png\" width=\"45%\"> \n",
    "</div>"
   ]
  },
  {
   "attachments": {},
   "cell_type": "markdown",
   "metadata": {},
   "source": [
    "## Grafico\n",
    "\n",
    "<div align=\"center\">\n",
    "<p style=\"text-align:left;\">\n",
    "    <b> B-A </b>\n",
    "    <span style=\"position:absolute; left:50%;\">\n",
    "        <b> B </b>\n",
    "    </span>\n",
    "</p>\n",
    "<img src=\"analises/assets/script/6-analise_impedancia_1516Hz_B_A_plot.png\" width=\"45%\">\n",
    "<img src=\"analises/assets/script/6-analise_impedancia_1516Hz_B_plot.png\" width=\"45%\"> \n",
    "</div>"
   ]
  },
  {
   "attachments": {},
   "cell_type": "markdown",
   "metadata": {},
   "source": [
    "## Medição"
   ]
  },
  {
   "cell_type": "code",
   "execution_count": 38,
   "metadata": {},
   "outputs": [
    {
     "name": "stdout",
     "output_type": "stream",
     "text": [
      "Bloco A: Ativo\n",
      "Bloco B: Passivo\n",
      "\n",
      "Blocos B-A :\n",
      "\t frequency_active: 1.516k Hz\n",
      "\t frequency_passive: 1.516k Hz\n",
      "\t gain_active: 44.909 V/V\n",
      "\t gain_passive: 22.367m V/V\n",
      "\t gain_total: 1.0045 V/V\n",
      "\t phase_active: 175.01 °\n",
      "\t phase_passive: 174.15 °\n",
      "\t phase_total: 349.15 °\n",
      "\t vin_active: 536.81m V\n",
      "\t vin_passive: 24 V\n",
      "\t vout_active: 24.108 V\n",
      "\t vout_passive: 536.81m V\n",
      "Blocos B :\n",
      "\t frequency_passive: 1.516k Hz\n",
      "\t gain_passive: 40.546m V/V\n",
      "\t phase_passive: 184.65 °\n",
      "\t vin_active: 0 V\n",
      "\t vin_passive: 24 V\n",
      "\t vout_active: 0 V\n",
      "\t vout_passive: 973.09m V\n"
     ]
    }
   ],
   "source": [
    "print(\"Bloco A: Ativo\")\n",
    "print(\"Bloco B: Passivo\")\n",
    "print()\n",
    "\n",
    "print_param_dict(\"Blocos B-A\", parse_ltspice_log(\"analises/1/script/6-analise_impedancia_1516Hz_B_A.log\"))\n",
    "print_param_dict(\"Blocos B\", parse_ltspice_log(\"analises/1/script/6-analise_impedancia_1516Hz_B.log\"))"
   ]
  },
  {
   "attachments": {},
   "cell_type": "markdown",
   "metadata": {},
   "source": [
    "## Analise\n",
    "\n",
    "Ao colocar o bloco A na saida do bloco B existe uma dimição do ganho passivo como também uma alteração na fase, isso quer dizer que a impedancia de entrada do bloco A esta afetando o bloco B"
   ]
  },
  {
   "attachments": {},
   "cell_type": "markdown",
   "metadata": {},
   "source": [
    "# 7- Calcule a impedância de entrada e de saída dos blocos A e B"
   ]
  },
  {
   "attachments": {},
   "cell_type": "markdown",
   "metadata": {},
   "source": [
    "As impedâncias são cálculadas do ponto de vista dos blocos acoplados, ou seja a impedância vista do bloco alpha leva em consideração as mudanças geradas pelo acoplamentio de impedâncias do bloco beta e vice versa.\n",
    "\n",
    "A busca das impedâncias é feita buscando a impedância equivalente do bloco quando analisado de um certo ponto de vista.\n",
    "\n",
    "As impedâncias foram calculadas utilizando como base os valores reais do circuito montado ná prática."
   ]
  },
  {
   "attachments": {},
   "cell_type": "markdown",
   "metadata": {},
   "source": [
    "### Calculo das impedâncias do bloco alpha"
   ]
  },
  {
   "attachments": {},
   "cell_type": "markdown",
   "metadata": {},
   "source": [
    "A impedância de entrada do bloco alpha é dada pelo próprio R que existe na entrada do sinal no amplificador, no circuito implementado seu valor é de 35.97 kΩ.\n",
    "A impedância de saída do bloco alpha é dada pela própria impedância de saída interna do ampop utilizado, no case este valor foi obtido a partir do seguinte fórum do fabricante.\n",
    "\n",
    "Acesso em maio de 2023\n",
    "\n",
    "https://e2e.ti.com/support/amplifiers-group/amplifiers/f/amplifiers-forum/740362/lm324-what-is-the-output-impedance\n",
    "\n",
    "* Entrada: R entrada amplificador = 35.97 kΩ\n",
    "\n",
    "* Saida: R_ampop = Na casa dos 610 Ω"
   ]
  },
  {
   "attachments": {},
   "cell_type": "markdown",
   "metadata": {},
   "source": [
    "### Cálculo das impedâncias do bloco beta"
   ]
  },
  {
   "attachments": {},
   "cell_type": "markdown",
   "metadata": {},
   "source": [
    "O cálculo da impedância do bloco beta é feito encontrando a impedância equivalente do bloco beta adicionando junto a influência do bloco alpha que afeta com sua impedância de entrada e saída, pois no caso do cálculo da impedância de entrada do bloco beta, deve-se levar em consideração o R de entrada do bloco alpha e para o cálculo da impedância de saída devemos levar em consideração a impedância de saída do bloco alpha"
   ]
  },
  {
   "cell_type": "code",
   "execution_count": 39,
   "metadata": {},
   "outputs": [
    {
     "name": "stdout",
     "output_type": "stream",
     "text": [
      "Impedância de entrada do bloco beta: \n",
      "46871.67344249547 < -75.50886611809987° Ω\n",
      "\n",
      "Impedância de saída do bloco beta: \n",
      "17.94542968501985 < -0.020196306305621827° Ω\n"
     ]
    }
   ],
   "source": [
    "# Impedances\n",
    "\n",
    "def filter_input_impedance(freq: float, r1, r2, r3, c1, c2, c3):\n",
    "\tzr1 = zr(r1, freq)\n",
    "\tzr2 = zr(r2, freq)\n",
    "\tzr3 = zr(r3, freq)\n",
    "\tzc1 = zc(c1, freq)\n",
    "\tzc2 = zc(c2, freq)\n",
    "\tzc3 = zc(c3, freq)\n",
    "\treturn series(zc1, parallel(zr1, series(zc2, parallel(zr2, series(zc3, zr3)))))\n",
    "\n",
    "def filter_output_impedance(freq: float, r1, r2, r3, c1, c2, c3, r_amp):\n",
    "\tzr1 = zr(r1, freq)\n",
    "\tzr2 = zr(r2, freq)\n",
    "\tzr3 = zr(r3, freq)\n",
    "\tzc1 = zc(c1, freq)\n",
    "\tzc2 = zc(c2, freq)\n",
    "\tzc3 = zc(c3, freq)\n",
    "\treturn parallel(zr3, series(zc3, parallel(zr2, series(zc2, parallel(zr1, series(zc1, r_amp))))))\n",
    "\n",
    "print(\"Impedância de entrada do bloco beta: \")\n",
    "print(complex2polar_string(filter_input_impedance(1400, 13.43e3, 17.97e3, parallel(35.82, 35.97), 2.67e-9, 2.81e-9, 2.75e-9)) + \" Ω\\n\")\n",
    "print(\"Impedância de saída do bloco beta: \")\n",
    "print(complex2polar_string(filter_output_impedance(1400, 13.43e3, 17.97e3, parallel(35.82, 35.97), 2.67e-9, 2.81e-9, 2.75e-9, 610)) + \" Ω\")\n"
   ]
  },
  {
   "attachments": {},
   "cell_type": "markdown",
   "metadata": {},
   "source": [
    "## Analise\n",
    "\n",
    "A impedancia de entrada do circuito ativo é igual a R3 e como R3 é igual a R6, na visão do circuito passivo o ultimo resistor (R6) acaba sendo o paralelo entre R3 e R6 o que é igual a $ \\frac{R6}{2}$"
   ]
  },
  {
   "attachments": {},
   "cell_type": "markdown",
   "metadata": {},
   "source": [
    "# 8- Altere o valor de R10 para que o circuito oscile na frequência desejada. Explique"
   ]
  },
  {
   "attachments": {},
   "cell_type": "markdown",
   "metadata": {},
   "source": [
    "## Calculos\n",
    "\n",
    "Como na visão do circuito passivo a impedancia do ultimo resistor é igual ao paralelo de R3 e R6 pode ser usando o dobro do valor nos dois resistores resultando para a visão do circuito passivo que R6 está no valor calculado. E o valor de Rf tem que ser recalculado para o novo valor de R3\n",
    "\n",
    "**Novos valores**\n",
    "\n",
    "Parâmetros do circuito: \n",
    "- C: 2.5784 nF\n",
    "- R: 18 kΩ\n",
    "- RD: 35.999 kΩ\n",
    "- RF: 1024 kΩ\n"
   ]
  },
  {
   "attachments": {},
   "cell_type": "markdown",
   "metadata": {},
   "source": [
    "### Cálculo do circuito com correção da impedância de entrada do bloco Alpha"
   ]
  },
  {
   "cell_type": "code",
   "execution_count": 53,
   "metadata": {},
   "outputs": [
    {
     "name": "stdout",
     "output_type": "stream",
     "text": [
      "------------------------------------------------------------------\n",
      "Parâmetros do circuito: \n",
      "\t- Ideal C: 2.5784 nF\n",
      "\t- Ideal R: 18 kΩ\n",
      "\t- Ideal RD: 36 kΩ\n",
      "\t- Ideal RF: 1.044 MΩ\n",
      "\n",
      "\t- Comercial C: 2.7 nF\n",
      "\t- Comercial R: 18 kΩ\n",
      "\t- Comercial RD: 33 kΩ\n",
      "\t- Comercial RF: 1 MΩ\n",
      "------------------------------------------------------------------\n",
      "Parâmetros para o LTSpice: \n",
      "\t- Ideal:\n",
      "\t.param C=2.5784n R=18k RD=36k RF=1.044M\n",
      "\t- Comercial:\n",
      "\t.param C=2.7n R=18k RD=33k RF=1M\n",
      "------------------------------------------------------------------\n",
      "Valor de frequência comercial\t  : 1.3369 kHz\n",
      "Valor de frequência comercial (MIN): 1.1575 kHz\n",
      "Valor de frequência comercial (MAX): 1.5637 kHz\n",
      "------------------------------------------------------------------\n"
     ]
    }
   ],
   "source": [
    "# Oscilation frequency\n",
    "fosc: float = 1400\n",
    "\n",
    "# Angular velocity\n",
    "wc: float = 2 * np.pi * fosc\n",
    "\n",
    "# Searches for the best component fit\n",
    "last_diff: int = 9999999\n",
    "res: List[ float ] = []\n",
    "for R in get_EE_list(17, 16):\n",
    "\tC = 1 / (2 * np.pi * np.sqrt(6) * R * fosc)\n",
    "\tRD = 2 * R\n",
    "\tRF = 29 * R\n",
    "\tC_commercial = round_to_commercial(C)\n",
    "\tRD_commercial = round_to_commercial(RD)\n",
    "\tRF_commercial = round_to_commercial(RF)\n",
    "\ttotal_diff = np.abs(C_commercial - C) + np.abs(RF_commercial - RF)\n",
    "\tRF = 2 * RF\n",
    "\tRF_commercial = round_to_commercial(RF)\n",
    "\tif (total_diff < last_diff):\n",
    "\t\tlast_diff = total_diff\n",
    "\t\tres = [ C, R, RD, RF, C_commercial, RD_commercial, RF_commercial ]\n",
    "\n",
    "# Fetches saved value\n",
    "[ C, R, RD, RF, C_commercial, RD_commercial, RF_commercial ] = res\n",
    "\n",
    "print(\"------------------------------------------------------------------\")\n",
    "print(\"Parâmetros do circuito: \")\n",
    "print_param(\"\t- Ideal C\", C, \"F\")\n",
    "print_param(\"\t- Ideal R\", R, \"Ω\")\n",
    "print_param(\"\t- Ideal RD\", RD, \"Ω\")\n",
    "print_param(\"\t- Ideal RF\", RF, \"Ω\")\n",
    "print()\n",
    "print_param(\"\t- Comercial C\", C_commercial, \"F\")\n",
    "print_param(\"\t- Comercial R\", R, \"Ω\")\n",
    "print_param(\"\t- Comercial RD\", RD_commercial, \"Ω\")\n",
    "print_param(\"\t- Comercial RF\", RF_commercial, \"Ω\")\n",
    "print(\"------------------------------------------------------------------\")\n",
    "print(\"Parâmetros para o LTSpice: \")\n",
    "print(\"\t- Ideal:\")\n",
    "print(f\"\\t.param C={Quantity(C)} R={Quantity(R)} RD={Quantity(RD)} RF={Quantity(RF)}\")\n",
    "print(\"\t- Comercial:\")\n",
    "print(f\"\\t.param C={Quantity(C_commercial)} R={Quantity(R)} RD={Quantity(RD_commercial)} RF={Quantity(RF_commercial)}\")\n",
    "\n",
    "FC_commercial = 1 / (np.pi * 2 * C_commercial * R * np.sqrt(6))\n",
    "FC_commercial_min = 1 / (np.pi * 2 * (C_commercial * 1.1) * (R * 1.05) * np.sqrt(6))\n",
    "FC_commercial_max = 1 / (np.pi * 2 * (C_commercial * 0.9) * (R * 0.95) * np.sqrt(6))\n",
    "print(\"------------------------------------------------------------------\")\n",
    "print_param(\"Valor de frequência comercial\t  \", FC_commercial, \"Hz\")\n",
    "print_param(\"Valor de frequência comercial (MIN)\", FC_commercial_min, \"Hz\")\n",
    "print_param(\"Valor de frequência comercial (MAX)\", FC_commercial_max, \"Hz\")\n",
    "print(\"------------------------------------------------------------------\")"
   ]
  },
  {
   "attachments": {},
   "cell_type": "markdown",
   "metadata": {},
   "source": [
    "## Simulação\n",
    "\n",
    "<p align=\"center\">\n",
    "<img src=\"analises/assets/script/8-novo_valor_R3.png\" width=\"75%\">\n",
    "</p>"
   ]
  },
  {
   "attachments": {},
   "cell_type": "markdown",
   "metadata": {},
   "source": [
    "## Grafico\n",
    "\n",
    "<p align=\"center\">\n",
    "<img src=\"analises/assets/script/8-novo_valor_R3_plot.png\" width=\"75%\">\n",
    "</p>\n"
   ]
  },
  {
   "attachments": {},
   "cell_type": "markdown",
   "metadata": {},
   "source": [
    "## Medidas"
   ]
  },
  {
   "cell_type": "code",
   "execution_count": 40,
   "metadata": {},
   "outputs": [
    {
     "name": "stdout",
     "output_type": "stream",
     "text": [
      "Alteração em R3 :\n",
      "\t frequency_active: 1.3447k Hz\n",
      "\t frequency_passive: 1.3447k Hz\n",
      "\t gain_active: 31.163 V/V\n",
      "\t gain_passive: 32.089m V/V\n",
      "\t gain_total: 1 V/V\n",
      "\t phase_active: 175.97 °\n",
      "\t phase_passive: 175.98 °\n",
      "\t phase_total: 351.95 °\n",
      "\t vin_active: 226.17m V\n",
      "\t vin_passive: 7.0481 V\n",
      "\t vout_active: 7.0481 V\n",
      "\t vout_passive: 226.17m V\n"
     ]
    }
   ],
   "source": [
    "print_param_dict(\"Alteração em R3\", parse_ltspice_log(\"analises/1/script/8-novo_valor_R3.log\"))"
   ]
  },
  {
   "attachments": {},
   "cell_type": "markdown",
   "metadata": {},
   "source": [
    "## Analise\n",
    "\n",
    "O ajuste de R3 permitiu maior precissão na frequencia de oscilação como no ganho (o potenciometro de feedback precisou de 100k em vez de 100k)"
   ]
  },
  {
   "attachments": {},
   "cell_type": "markdown",
   "metadata": {},
   "source": [
    "## Otimização pelas não idealidades do ampop"
   ]
  },
  {
   "attachments": {},
   "cell_type": "markdown",
   "metadata": {},
   "source": [
    "### Modelagem de um filtro passa alta represetando o filtro usado no oscilador"
   ]
  },
  {
   "cell_type": "code",
   "execution_count": 41,
   "metadata": {},
   "outputs": [
    {
     "name": "stdout",
     "output_type": "stream",
     "text": [
      "0.034483797972785696 < 179.99915397306222°\n"
     ]
    }
   ],
   "source": [
    "def zc(c: float, freq: float):\n",
    "    xc = 1 / (2 * np.pi * freq * c)\n",
    "    return 0 + (xc / 1j)\n",
    "\n",
    "def zr(r: float, freq: float):\n",
    "    return r + 0j\n",
    "\n",
    "def parallel(z1, z2):\n",
    "    return (z1 * z2) / (z1 + z2)\n",
    "\n",
    "def series(z1, z2):\n",
    "    return z1 + z2\n",
    "\n",
    "# Gain of the 1° RC filter\n",
    "def kn1(zr1, zr2, zr3, zc1, zc2, zc3):\n",
    "    zeq = parallel(zr1, series(zc2, parallel(zr2, series(zc3, zr3))))\n",
    "    return (zeq / (series(zc1, zeq)))\n",
    "\n",
    "# Gain of the 2° RC filter\n",
    "def kn2(zr1, zr2, zr3, zc1, zc2, zc3):\n",
    "    zeq = parallel(zr2, series(zc3, zr3))\n",
    "    return (zeq / (series(zc2, zeq)))\n",
    "\n",
    "# Gain of the 3° RC filter\n",
    "def kn3(zr1, zr2, zr3, zc1, zc2, zc3):\n",
    "    return (zr3 / series(zc3, zr3))\n",
    "\n",
    "def net(zr1, zr2, zr3, zc1, zc2, zc3):\n",
    "    k1 = kn1(zr1, zr2, zr3, zc1, zc2, zc3)\n",
    "    k2 = kn2(zr1, zr2, zr3, zc1, zc2, zc3)\n",
    "    k3 = kn3(zr1, zr2, zr3, zc1, zc2, zc3)\n",
    "    k = (k1 * k2 * k3)\n",
    "    return k\n",
    "\n",
    "def filter_model(freq: float, r1, r2, r3, c1, c2, c3):\n",
    "    zr1 = zr(r1, freq)\n",
    "    zr2 = zr(r2, freq)\n",
    "    zr3 = zr(r3, freq)\n",
    "    zc1 = zc(c1, freq)\n",
    "    zc2 = zc(c2, freq)\n",
    "    zc3 = zc(c3, freq)\n",
    "    return net(zr1, zr2, zr3, zc1, zc2, zc3)\n",
    "\n",
    "# Simple test for filter\n",
    "print(complex2polar_string(filter_model(1400, 18e3, 18e3, 18e3, 2.5784e-9, 2.5784e-9, 2.5784e-9)))"
   ]
  },
  {
   "attachments": {},
   "cell_type": "markdown",
   "metadata": {},
   "source": [
    "### Modelando o amplificador operacional\n"
   ]
  },
  {
   "cell_type": "code",
   "execution_count": 42,
   "metadata": {},
   "outputs": [
    {
     "name": "stdout",
     "output_type": "stream",
     "text": [
      "<class 'pandas.core.frame.DataFrame'>\n",
      "RangeIndex: 64511 entries, 0 to 64510\n",
      "Data columns (total 3 columns):\n",
      " #   Column     Non-Null Count  Dtype  \n",
      "---  ------     --------------  -----  \n",
      " 0   frequency  64511 non-null  float64\n",
      " 1   gain       64511 non-null  float64\n",
      " 2   phase      64511 non-null  float64\n",
      "dtypes: float64(3)\n",
      "memory usage: 1.5 MB\n"
     ]
    }
   ],
   "source": [
    "df = pd.read_csv(\"analises/open_loop/example/open_loop_gain.csv\", index_col=\"frequency\")\n",
    "df.reset_index().info()\n",
    "\n",
    "df.phase = -df.phase"
   ]
  },
  {
   "attachments": {},
   "cell_type": "markdown",
   "metadata": {},
   "source": [
    "### Criação do modelo"
   ]
  },
  {
   "attachments": {},
   "cell_type": "markdown",
   "metadata": {},
   "source": [
    "O comportamento em malha aberta de um amplificador operacional (op-amp) é semelhante a um amplificador ideal com um filtro passa-baixa na saída. Portanto, um modelo simplificado de um op-amp LM324 pode ser representado como um amplificador operacional ideal com um filtro RC na saída.\n",
    "\n",
    "<img src=\"analises/assets/lm324_model.png\">"
   ]
  },
  {
   "attachments": {},
   "cell_type": "markdown",
   "metadata": {},
   "source": [
    "$$\n",
    "w0 = \\frac{1}{r * c}\n",
    "$$\n",
    "\n",
    "$$\n",
    "\\frac{-gain}{\\frac{s}{w0} + 1} \n",
    "$$"
   ]
  },
  {
   "cell_type": "code",
   "execution_count": 43,
   "metadata": {},
   "outputs": [],
   "source": [
    "# Create the transfer function of a theoretical low pass filter\n",
    "def get_n1_low_pass_filter(r: float, c: float, gain: float) -> control.TransferFunction:\n",
    "\tw0 = 1 / (r * c)\n",
    "\n",
    "\tnum = [0, -gain]\n",
    "\tden = [1 / w0, 1]\n",
    "\treturn control.TransferFunction(num, den)\n",
    "\n",
    "def get_opamp_model_output(r: float, c: float, open_loop_gain: float, frequency):\n",
    "\treturn get_n1_low_pass_filter(r, c, open_loop_gain).frequency_response(2 * np.pi * frequency)\n"
   ]
  },
  {
   "attachments": {},
   "cell_type": "markdown",
   "metadata": {},
   "source": [
    "### Plot de exemplo do modelo do ampop"
   ]
  },
  {
   "cell_type": "code",
   "execution_count": 44,
   "metadata": {},
   "outputs": [
    {
     "data": {
      "text/plain": [
       "[<matplotlib.axis.YTick at 0x7f9714bc7890>,\n",
       " <matplotlib.axis.YTick at 0x7f971c684dd0>,\n",
       " <matplotlib.axis.YTick at 0x7f9717ab2310>,\n",
       " <matplotlib.axis.YTick at 0x7f971c3157d0>,\n",
       " <matplotlib.axis.YTick at 0x7f971c317c90>,\n",
       " <matplotlib.axis.YTick at 0x7f971c322010>,\n",
       " <matplotlib.axis.YTick at 0x7f971c314d90>,\n",
       " <matplotlib.axis.YTick at 0x7f971c324dd0>,\n",
       " <matplotlib.axis.YTick at 0x7f971c327650>,\n",
       " <matplotlib.axis.YTick at 0x7f971c32da10>,\n",
       " <matplotlib.axis.YTick at 0x7f971c32fdd0>,\n",
       " <matplotlib.axis.YTick at 0x7f971c32d1d0>,\n",
       " <matplotlib.axis.YTick at 0x7f971c332ad0>,\n",
       " <matplotlib.axis.YTick at 0x7f971c334d90>,\n",
       " <matplotlib.axis.YTick at 0x7f971c337090>,\n",
       " <matplotlib.axis.YTick at 0x7f971c33d210>,\n",
       " <matplotlib.axis.YTick at 0x7f971c335950>,\n",
       " <matplotlib.axis.YTick at 0x7f971c692e90>,\n",
       " <matplotlib.axis.YTick at 0x7f971c3420d0>,\n",
       " <matplotlib.axis.YTick at 0x7f971c348490>]"
      ]
     },
     "execution_count": 44,
     "metadata": {},
     "output_type": "execute_result"
    },
    {
     "data": {
      "image/png": "[encoded data removed]",
      "text/plain": [
       "<Figure size 1800x500 with 1 Axes>"
      ]
     },
     "metadata": {},
     "output_type": "display_data"
    }
   ],
   "source": [
    "\n",
    "mag, phase, omega = get_opamp_model_output(100, 1e-9, log_2_linear(82), df.index)\n",
    "fig, ax = plt.subplots(figsize = (18, 5))\n",
    "\n",
    "# plot gain\n",
    "ax.plot(\n",
    "\tdf.index,\n",
    "\tlinear_2_log(mag),\n",
    "\tlabel = \"model gain\",\n",
    "\tcolor = \"b\",\n",
    "\tlinewidth = 3.0\n",
    ")\n",
    "\n",
    "# general ax configuration \n",
    "ax.set_xscale('log', base = 10)\n",
    "ax.legend(loc=\"upper left\")\n",
    "ax.grid(visible = True, which = \"both\", axis = \"both\", alpha = 0.5)\n",
    "ax.set_ylabel(\"Gain (dB)\")\n",
    "ax.set_xlabel(\"Frequency (Hz)\")\n",
    "ax.set_yticks(np.round(np.linspace(-10, 90, 20), 1))"
   ]
  },
  {
   "attachments": {},
   "cell_type": "markdown",
   "metadata": {},
   "source": [
    "### Ajustar o modelo com os dados da simulação"
   ]
  },
  {
   "attachments": {},
   "cell_type": "markdown",
   "metadata": {},
   "source": [
    "Medir o ganho em malha aberta por meio da análise AC pode ser desafiador devido à possibilidade de erros gerados pelo desvio de corrente contínua (DC offset).\n",
    "Para resolver isso, podemos utilizar o método de Michael Tian, como demonstrado neste [video](https://www.youtube.com/watch?v=bXbDa9nglZI) e explicado com mais detalhes neste [artigo](https://kenkundert.com/docs/cd2001-01.pdf).\n",
    "\n",
    "Simulação:\n",
    "\n",
    "<img src=\"analises/assets/lm324_open_loop_simulation.png\">"
   ]
  },
  {
   "attachments": {},
   "cell_type": "markdown",
   "metadata": {},
   "source": [
    "#### Ajuste de curva\n",
    "\n",
    "Ao utilizar a função de ajuste de curva do SciPy, é importante observar que ela só pode ter um valor de ponto flutuante como saída. Isso significa que apenas o ganho ou a fase podem ser ajustados, mas não ambos simultaneamente."
   ]
  },
  {
   "cell_type": "code",
   "execution_count": 45,
   "metadata": {},
   "outputs": [
    {
     "name": "stdout",
     "output_type": "stream",
     "text": [
      "Lm324 model\n",
      "R: 25.293 R\n",
      "C: 436.89 nF\n",
      "open_loop_gain: 40.099 dB\n"
     ]
    }
   ],
   "source": [
    "# Opamp RC model with gain as independent variable, this function is for scipy curve fit\n",
    "def filter_model_gain(x, r, c, open_loop_gain):\n",
    "    c = c\n",
    "    r = r\n",
    "    open_loop_gain = abs(open_loop_gain)\n",
    "    mag, phase, omega = get_opamp_model_output(r, c, log_2_linear(open_loop_gain), x)\n",
    "    return mag\n",
    "\n",
    "# Opamp RC model with gain as independent variable, this function is for scipy curve fit\n",
    "def filter_model_phase(x, r, c, open_loop_gain):\n",
    "    c = abs(c)\n",
    "    r = abs(r)\n",
    "    open_loop_gain = abs(open_loop_gain)\n",
    "    mag, phase, omega = get_opamp_model_output(r, c, log_2_linear(open_loop_gain), x)\n",
    "    return np.rad2deg(phase)\n",
    "\n",
    "popt, pcov = curve_fit(filter_model_gain, \n",
    "                        df.index,\n",
    "                        log_2_linear(df.gain),\n",
    "                    \t[900, 50e-9, 80],\n",
    "                        bounds=(0, [100e3, 10e-6, 200]))\n",
    "\n",
    "r = abs(popt[0])\n",
    "c = abs(popt[1])\n",
    "open_loop_gain = abs(popt[2])\n",
    "\n",
    "\n",
    "print(\"Lm324 model\")\n",
    "print_param(\"R\", popt[0], \"R\")\n",
    "print_param(\"C\", abs(popt[1]), \"F\")\n",
    "print_param(\"open_loop_gain\", popt[2], \"dB\")\n",
    "\n"
   ]
  },
  {
   "attachments": {},
   "cell_type": "markdown",
   "metadata": {},
   "source": [
    "#### Plot de resultados"
   ]
  },
  {
   "cell_type": "code",
   "execution_count": 46,
   "metadata": {},
   "outputs": [
    {
     "data": {
      "image/png": "[encoded data removed]",
      "text/plain": [
       "<Figure size 1800x1000 with 2 Axes>"
      ]
     },
     "metadata": {},
     "output_type": "display_data"
    }
   ],
   "source": [
    "fig, ax = plt.subplots(figsize = (18, 10))\n",
    "\n",
    "mag, phase, omega = get_opamp_model_output(r, c, log_2_linear(open_loop_gain), df.index)\n",
    "\n",
    "df.plot(\n",
    "\tax = ax,\n",
    "\ty = [\"gain\"],\n",
    "\tcolor = [\"g\"],\n",
    "\tlw = 3.0,\n",
    ")\n",
    "\n",
    "ax.plot(\n",
    "\tdf.index,\n",
    "\tlinear_2_log(mag),\n",
    "\tlabel = \"model gain\",\n",
    "\tcolor = \"b\",\n",
    "\tlinewidth = 3.0\n",
    ")\n",
    "\n",
    "# plot phases\n",
    "ax2 = ax.twinx()\n",
    "\n",
    "ax2.plot(\n",
    "\tdf.index,\n",
    "\tnp.rad2deg(np.array(phase)),\n",
    "\tlabel = \"model phase\",\n",
    "\tcolor = \"b\",\n",
    "\tlinestyle = \"--\",\n",
    "\tlinewidth = 3.0\n",
    ")\n",
    "\n",
    "df.plot(\n",
    "\tax = ax2,\n",
    "\ty = [\"phase\"],\n",
    "\tstyle = [\"--\"],\n",
    "\tcolor = [\"g\"],\n",
    "\tlw = 3.0\n",
    ")\n",
    "\n",
    "\n",
    "# general ax configuration \n",
    "ax.legend(loc=\"upper left\")\n",
    "ax.grid(visible = True, which = \"both\", axis = \"both\", alpha = 0.5)\n",
    "ax.set_ylabel(\"Gain (dB)\")\n",
    "ax.set_xlabel(\"Frequency (Hz)\")\n",
    "ax.set_yticks(np.round(np.linspace(-65, 120, 20), 1))\n",
    "\n",
    "ax2.legend()\n",
    "ax2.set_ylabel(\"Phase (°)\")\n",
    "ax2.set_yticks(np.round(np.linspace(-180, 180, 20), 1))\n",
    "\n",
    "# configure X axis\n",
    "ax.set_xscale('log', base = 10)\n",
    "ax.xaxis.set_major_locator(LogLocator(base = 10.0, numticks = 15))\n",
    "ax.xaxis.set_minor_locator(\n",
    "\tLogLocator(\n",
    "\t\tbase = 10.0, subs = np.arange(0.1, 1.0, 0.1), numticks = 150\n",
    "\t)\n",
    ")"
   ]
  },
  {
   "attachments": {},
   "cell_type": "markdown",
   "metadata": {},
   "source": [
    "### Modelando o ampop inversor"
   ]
  },
  {
   "attachments": {},
   "cell_type": "markdown",
   "metadata": {},
   "source": [
    "**Utilizando analise de malha**\n",
    "\n",
    "$ V_+ = V_{in} $\n",
    "\n",
    "Divisor de tensão entre $ V_{out} $ e $ V_- $\n",
    "\n",
    "$ V_- = \\frac{Vout * R1}{Rf + R1 + R_{out}} $\n",
    "\n",
    "Pelo modelo do ampop\n",
    "\n",
    "$ V_{out} = Av * (V_+ - V_-) $\n",
    "\n",
    "Substituindo\n",
    "\n",
    "$ V_{out} = Av * (V_{in} - \\frac{Vout * R1}{Rf + R1 + R_{out}}) $\n",
    "\n",
    "Distribuindo Av\n",
    "\n",
    "$ V_{out} = Av * V_{in} - \\frac{Vout * R1 * Av}{Rf + R1 + R_{out}} $\n",
    "\n",
    "Isolando $ V_{out} $\n",
    "\n",
    "$ V_{out} - Av * V_{in} =  - \\frac{Vout * R1 * Av}{Rf + R1 + R_{out}} $\n",
    "\n",
    "$ V_{in} = V_{out} * (\\frac{1}{Av} + \\frac{R1}{Rf + R1 + R_{out}}) $\n",
    "\n",
    "Isolando $ R_{out} $ da fração\n",
    "\n",
    "$ V_{in} = V_{out} * (\\frac{1}{Av} + \\frac{1}{\\frac{R1 + Rf}{R1} + \\frac{R_{out}}{R1}}) $\n",
    "\n",
    "Como $ \\frac{R1 + Rf}{R1} $ é igual ao ganho teorico $ G $ pode ser substituido $ \\frac{R1 + Rf}{R1} $ por $ G $ \n",
    "\n",
    "$ V_{in} = V_{out} * (\\frac{1}{Av} + \\frac{1}{G + \\frac{R_{out}}{R1}}) $\n",
    "\n",
    "$ \\frac{1}{G_{real}} = (\\frac{1}{Av} + \\frac{1}{G + \\frac{R_{out}}{R1}}) $\n",
    "\n",
    "$ G_{real} = (\\frac{1}{Av} + \\frac{1}{G + \\frac{R_{out}}{R1}})^{-1} $"
   ]
  },
  {
   "cell_type": "code",
   "execution_count": 47,
   "metadata": {},
   "outputs": [],
   "source": [
    "def inverting_opamp_model(r1, rf, r_opamp, c_opamp, open_loop_gain, frequency):\n",
    "\t# Get intrinsic gain and phase of the opamp\n",
    "\tAov_mag, Aov_phase, omega = get_opamp_model_output(r_opamp, c_opamp, open_loop_gain, frequency)\n",
    "\n",
    "\t# Classic inverting amplifier gain with opamp\n",
    "\tG_abs = ((r1 + rf) / r1)\n",
    "\tG_real_abs = 1 / ((1 / G_abs) + (1 / Aov_mag))\n",
    "\tG_real_phase = Aov_phase\n",
    "\t\n",
    "\treturn G_real_abs * np.exp(1j * G_real_phase)\n"
   ]
  },
  {
   "attachments": {},
   "cell_type": "markdown",
   "metadata": {},
   "source": [
    "#### Example using a inverting amplifier with gain 2 V/V"
   ]
  },
  {
   "cell_type": "code",
   "execution_count": 48,
   "metadata": {},
   "outputs": [
    {
     "data": {
      "image/png": "[encoded data removed]",
      "text/plain": [
       "<Figure size 1800x500 with 2 Axes>"
      ]
     },
     "metadata": {},
     "output_type": "display_data"
    }
   ],
   "source": [
    "fig, ax = plt.subplots(figsize = (18, 5))\n",
    "\n",
    "g_real = inverting_opamp_model(10e3, 10e3, r, c, open_loop_gain, df.index)\n",
    "\n",
    "ax.plot(\n",
    "\tdf.index,\n",
    "\tlinear_2_log(np.abs(g_real)),\n",
    "\tlabel = \"model gain\",\n",
    "\tcolor = \"b\",\n",
    "\tlinewidth = 3.0\n",
    ")\n",
    "\n",
    "# plot phases\n",
    "ax2 = ax.twinx()\n",
    "\n",
    "ax2.plot(\n",
    "\tdf.index,\n",
    "\tnp.rad2deg(np.angle(g_real)),\n",
    "\tlabel = \"model phase\",\n",
    "\tcolor = \"b\",\n",
    "\tlinestyle = \"--\",\n",
    "\tlinewidth = 3.0\n",
    ")\n",
    "\n",
    "# general ax configuration \n",
    "ax.legend(loc=\"upper left\")\n",
    "ax.grid(visible = True, which = \"both\", axis = \"both\", alpha = 0.5)\n",
    "ax.set_ylabel(\"Gain (dB)\")\n",
    "ax.set_xlabel(\"Frequency (Hz)\")\n",
    "ax.set_yticks(np.round(np.linspace(-16, 10, 20), 1))\n",
    "\n",
    "ax2.legend()\n",
    "ax2.set_ylabel(\"Phase (°)\")\n",
    "ax2.set_yticks(np.round(np.linspace(-180, 180, 20), 1))\n",
    "\n",
    "# configure X axis\n",
    "ax.set_xscale('log', base = 10)\n",
    "ax.xaxis.set_major_locator(LogLocator(base = 10.0, numticks = 15))\n",
    "ax.xaxis.set_minor_locator(\n",
    "\tLogLocator(\n",
    "\t\tbase = 10.0, subs = np.arange(0.1, 1.0, 0.1), numticks = 150\n",
    "\t)\n",
    ")"
   ]
  },
  {
   "attachments": {},
   "cell_type": "markdown",
   "metadata": {},
   "source": [
    "# Otimizando o oscilador"
   ]
  },
  {
   "attachments": {},
   "cell_type": "markdown",
   "metadata": {},
   "source": [
    "### Modelo do oscilador"
   ]
  },
  {
   "attachments": {},
   "cell_type": "markdown",
   "metadata": {},
   "source": [
    "O critério de Barkhausen é um conjunto de condições que devem ser satisfeitas para que um oscilador mantenha as oscilações. Existem duas condições:\n",
    "\n",
    "- O ganho em malha fechada ao redor do circuito de realimentação deve ser igual a 1 na frequência de oscilação.\n",
    "- O deslocamento de fase ao redor do circuito de realimentação deve ser um múltiplo inteiro de 360 graus.\n",
    "\n",
    "Em outras palavras, o sinal de realimentação deve estar em fase com o sinal de entrada e sua magnitude deve ser igual ou maior que o sinal de entrada para que a oscilação seja sustentada."
   ]
  },
  {
   "cell_type": "code",
   "execution_count": 49,
   "metadata": {},
   "outputs": [
    {
     "name": "stdout",
     "output_type": "stream",
     "text": [
      "Total gain:  [0.2973638] < [-5.55270175]°\n"
     ]
    }
   ],
   "source": [
    "def oscillator_total_gain(frequency, opamp: dict, filter: dict):\n",
    "\tk_opamp = inverting_opamp_model(opamp[\"r1\"], opamp[\"rf\"], opamp[\"r_opamp\"], opamp[\"c_opamp\"], opamp[\"open_loop_gain\"], frequency)\n",
    "\tk_filter = filter_model(frequency, filter[\"r1\"], filter[\"r2\"], filter[\"r3\"], filter[\"c1\"], filter[\"c2\"], filter[\"c3\"])\n",
    "\t# the total gain of an oscilator is the opamp gain vs passive filter gain \n",
    "\treturn k_opamp * k_filter\n",
    "lm324 = {\n",
    "    \"r1\":1e3,\n",
    "\t\"rf\": 10e3,\n",
    "\t\"r_opamp\": r,\n",
    "\t\"c_opamp\": c,\n",
    "\t\"open_loop_gain\": open_loop_gain,\n",
    "\t}\n",
    "filter = {\n",
    "    \"r1\": 18e3,\n",
    "\t\"r2\": 18e3,\n",
    "\t\"r3\": 18e3,\n",
    "\t\"c1\": 2.5784e-9,\n",
    "\t\"c2\": 2.5784e-9,\n",
    "\t\"c3\": 2.5784e-9,\n",
    "\t}\n",
    "print(\"Total gain: \", complex2polar_string(oscillator_total_gain(1400, lm324, filter)))"
   ]
  },
  {
   "attachments": {},
   "cell_type": "markdown",
   "metadata": {},
   "source": [
    "### Usando o scipy para encontrar o critério de Barkhausen"
   ]
  },
  {
   "cell_type": "code",
   "execution_count": 50,
   "metadata": {},
   "outputs": [
    {
     "name": "stdout",
     "output_type": "stream",
     "text": [
      "Passive components to archive the phase of the Barkhausen criteria\n",
      "final phase: 158.91n°\n",
      "filter :\n",
      "\t c1: 2.5784n \n",
      "\t c2: 2.5784n \n",
      "\t c3: 2.5784n \n",
      "\t r1: 14.189k \n",
      "\t r2: 18k \n",
      "\t r3: 18k \n",
      "lm324 :\n",
      "\t c_opamp: 436.89n \n",
      "\t open_loop_gain: 40.099 V/V\n",
      "\t r1: 10k \n",
      "\t r_opamp: 25.293 \n",
      "\t rf: 10k \n"
     ]
    }
   ],
   "source": [
    "def total_phase_to_optimize(x: np.ndarray, opamp: dict, filter: dict, frequency) -> float:\n",
    "\tfilter[\"r1\"] = x\n",
    "\t# The optimizer seems to reduce de error if the capacitor is in nF instead of F\n",
    "\t#filter[\"c1\"] = filter[\"c2\"] = filter[\"c3\"] = x[1] / 1e9\n",
    "\treturn np.abs(np.angle(oscillator_total_gain(frequency, opamp, filter)))\n",
    "\n",
    "\n",
    "lm324 = {\n",
    "\t# input resistor \n",
    "    \"r1\":10e3,\n",
    "    # feedback resistor \n",
    "\t\"rf\": 10e3,\n",
    "\t# resistor of the RC output filter model\n",
    "\t\"r_opamp\": r,\n",
    "\t# capacitor of the RC output filter model\n",
    "\t\"c_opamp\": c,\n",
    "\t# open loop gian of the RC output filter model\n",
    "\t\"open_loop_gain\": open_loop_gain,\n",
    "\t}\n",
    "\n",
    "filter = {\n",
    "    \"r1\": 18e3,\n",
    "\t\"r2\": 18e3,\n",
    "\t\"r3\": parallel(36e3, 36e3),\n",
    "\t\"c1\": 2.5784e-9,\n",
    "\t\"c2\": 2.5784e-9,\n",
    "\t\"c3\": 2.5784e-9,\n",
    "\t}\n",
    "\n",
    "frequency_target = 1400\n",
    "\n",
    "res = sci.optimize.minimize_scalar(total_phase_to_optimize, 50e3, args=(lm324, filter, frequency_target), bounds=(100, 100e3))\n",
    "\n",
    "\n",
    "\n",
    "print(\"Passive components to archive the phase of the Barkhausen criteria\")\n",
    "print_param(\"final phase\", np.rad2deg(total_phase_to_optimize(res.x, lm324, filter, frequency_target)), \"°\")\n",
    "print_param_dict(\"filter\", filter)\n",
    "print_param_dict(\"lm324\", lm324)"
   ]
  },
  {
   "attachments": {},
   "cell_type": "markdown",
   "metadata": {},
   "source": [
    "### Otimizando para o ganho"
   ]
  },
  {
   "cell_type": "code",
   "execution_count": 51,
   "metadata": {},
   "outputs": [
    {
     "name": "stdout",
     "output_type": "stream",
     "text": [
      "Passive components to archive the gain of the Barkhausen criteria\n",
      "final gain: 977.4 mV/V\n",
      "error: 2.3125%\n",
      "filter :\n",
      "\t c1: 2.5784n \n",
      "\t c2: 2.5784n \n",
      "\t c3: 2.5784n \n",
      "\t r1: 14.189k \n",
      "\t r2: 18k \n",
      "\t r3: 36k \n",
      "lm324 :\n",
      "\t c_opamp: 436.89n \n",
      "\t open_loop_gain: 40.099 V/V\n",
      "\t r1: 36k \n",
      "\t r_opamp: 25.293 \n",
      "\t rf: 1.3927M \n"
     ]
    }
   ],
   "source": [
    "def total_gain_to_optimize(x: np.ndarray, wanted_gain, opamp: dict, filter: dict, frequency) -> float:\n",
    "\tlm324[\"rf\"] = x\n",
    "\t#print(np.abs(oscillator_total_gain(frequency, opamp, filter) - wanted_gain) )\n",
    "\treturn np.abs((oscillator_total_gain(frequency, opamp, filter) - wanted_gain)) \n",
    "\n",
    "filter[\"r3\"] = filter[\"r2\"] * 2\n",
    "lm324[\"r1\"] = filter[\"r3\"]\n",
    "\n",
    "res = sci.optimize.minimize_scalar(total_gain_to_optimize, 100e3, args=(1, lm324, filter, frequency_target), bounds=(51e3, 100e6))\n",
    "\n",
    "print(\"Passive components to archive the gain of the Barkhausen criteria\")\n",
    "print_param(\"final gain\", total_gain_to_optimize(res.x, 0, lm324, filter, frequency_target), \"V/V\")\n",
    "print_param(\"error\", 100 * ((1 / ((total_gain_to_optimize(res.x, 0, lm324, filter, frequency_target)))) -1), \"%\")\n",
    "print_param_dict(\"filter\", filter)\n",
    "print_param_dict(\"lm324\", lm324)"
   ]
  },
  {
   "attachments": {},
   "cell_type": "markdown",
   "metadata": {},
   "source": [
    "#### Resumo\n",
    "\n",
    "Foi modelado o ampop como um ganho ideal com um filtro passa baixa RC\n",
    "\n",
    "<img src=\"analises/assets/lm324_model.png\">\n",
    "\n",
    "Foi utilizada uma simulação de malha aberta de um lm324 para criar o modelo, os vlaores achados foram:\n",
    "Lm324 model:\n",
    "- R: 25.293 R\n",
    "- C: 436.89 nF\n",
    "- open_loop_gain: 40.099 dB\n",
    "\n",
    "E com esse modelo foi achado um valor para R4 para chegar em uma frequencia mais proximo do desejado, o valor de R4 achado foi: 14.189k"
   ]
  },
  {
   "attachments": {},
   "cell_type": "markdown",
   "metadata": {},
   "source": [
    "#### Simulação\n",
    "\n",
    "<p align=\"center\">\n",
    "<img src=\"analises/assets/script/8-novo_valor_R3_opt.png\" width=\"75%\">\n",
    "</p>"
   ]
  },
  {
   "attachments": {},
   "cell_type": "markdown",
   "metadata": {},
   "source": [
    "#### Grafico\n",
    "\n",
    "\n",
    "<p align=\"center\">\n",
    "<img src=\"analises/assets/script/8-novo_valor_R3_opt_plot.png\" width=\"75%\">\n",
    "</p>\n"
   ]
  },
  {
   "attachments": {},
   "cell_type": "markdown",
   "metadata": {},
   "source": [
    "#### Medição"
   ]
  },
  {
   "cell_type": "code",
   "execution_count": 52,
   "metadata": {},
   "outputs": [
    {
     "name": "stdout",
     "output_type": "stream",
     "text": [
      "Alteração em R3 :\n",
      "\t frequency_active: 1.4747k Hz\n",
      "\t frequency_passive: 1.4747k Hz\n",
      "\t gain_active: 25.068 V/V\n",
      "\t gain_passive: 39.892m V/V\n",
      "\t gain_total: 1 V/V\n",
      "\t phase_active: -184.78 °\n",
      "\t phase_passive: -184.78 °\n",
      "\t phase_total: -369.56 °\n",
      "\t vin_active: 1.1314 V\n",
      "\t vin_passive: 28.363 V\n",
      "\t vout_active: 28.363 V\n",
      "\t vout_passive: 1.1314 V\n"
     ]
    }
   ],
   "source": [
    "print_param_dict(\"Alteração em R3\", parse_ltspice_log(\"analises/1/script/8-novo_valor_R3_opt.log\"))"
   ]
  },
  {
   "attachments": {},
   "cell_type": "markdown",
   "metadata": {},
   "source": [
    "#### Analise\n",
    "\n",
    "O valor achado com a otimização aproximou mais da frequencia desejada porém ultrapasou ela, o que significa que o modelo é um pouco pessimista em relação ao ampop"
   ]
  },
  {
   "attachments": {},
   "cell_type": "markdown",
   "metadata": {},
   "source": [
    "## Implementação prática"
   ]
  },
  {
   "attachments": {},
   "cell_type": "markdown",
   "metadata": {},
   "source": [
    "### Montagem do circuito prático\n",
    "\n",
    "<img src=\"./analises/pratica/fisico.jpeg\" />\n",
    "\n",
    "### Medição do circuito prático\n",
    "\n",
    "<img src=\"./analises/pratica/TEK0000.JPG\" />\n",
    "\n",
    "<img src=\"./analises/pratica/TEK0001.JPG\" />"
   ]
  }
 ],
 "metadata": {
  "kernelspec": {
   "display_name": ".venv",
   "language": "python",
   "name": "python3"
  },
  "language_info": {
   "codemirror_mode": {
    "name": "ipython",
    "version": 3
   },
   "file_extension": ".py",
   "mimetype": "text/x-python",
   "name": "python",
   "nbconvert_exporter": "python",
   "pygments_lexer": "ipython3",
   "version": "3.11.3"
  },
  "orig_nbformat": 4
 },
 "nbformat": 4,
 "nbformat_minor": 2
}
