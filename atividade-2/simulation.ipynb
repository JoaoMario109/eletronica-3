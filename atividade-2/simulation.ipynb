{
 "cells": [
  {
   "attachments": {},
   "cell_type": "markdown",
   "metadata": {},
   "source": [
    "# Simulação sem fator de correção "
   ]
  },
  {
   "attachments": {},
   "cell_type": "markdown",
   "metadata": {},
   "source": [
    "## Loop fechado"
   ]
  },
  {
   "attachments": {},
   "cell_type": "markdown",
   "metadata": {},
   "source": [
    "### Simulação\n",
    "<img src=analises/assets/simulation_teoretical_values_without_factor.png>\n",
    "\n",
    "### Grafico\n",
    "<img src=analises/assets/simulation_teoretical_values_without_factor_plot.png>\n",
    "\n",
    "**Frequencia: 1.5129108KHz**"
   ]
  },
  {
   "attachments": {},
   "cell_type": "markdown",
   "metadata": {},
   "source": [
    "## Loop aberto"
   ]
  },
  {
   "attachments": {},
   "cell_type": "markdown",
   "metadata": {},
   "source": [
    "### Simulação\n",
    "<img src=analises/assets/simulation_teoretical_values_without_factor_open_loop.png>\n",
    "\n",
    "### Grafico na frequencia desejada\n",
    "<img src=analises/assets/simulation_teoretical_values_without_factor_open_loop_plot_1400k.png>\n",
    "\n",
    "\n",
    "passive_phase=181.063764 °\n",
    "\n",
    "passive_gain=0.03450605872856853 V/V\n",
    "\n",
    "active_phase=180.20155608000002 °\n",
    "\n",
    "active_gain=12.644397759742143 V/V\n",
    "\n",
    "total_phase=361.26532008000004 °\n",
    "\n",
    "total_gain=0.43630833168504274 V/V\n",
    "\n",
    "### Grafico na frequencia natural (1.512kHz)\n",
    "<img src=analises/assets/simulation_teoretical_values_without_factor_open_loop_plot_1400k.png>\n",
    "\n",
    "passive_phase = 179.7187168224°\n",
    "\n",
    "passive_gain = 0.04034024065243758V/V\n",
    "\n",
    "\n",
    "active_phase = 180.8793159264°\n",
    "\n",
    "active_gain = 45.515723684599585V/V\n",
    "\n",
    "\n",
    "total_phase = 360.59803274880005°\n",
    "\n",
    "total_gain = 1.8361152469066002V/V"
   ]
  },
  {
   "attachments": {},
   "cell_type": "markdown",
   "metadata": {},
   "source": [
    "#### Calculo para a frequencia desejada"
   ]
  },
  {
   "cell_type": "code",
   "execution_count": 20,
   "metadata": {},
   "outputs": [
    {
     "name": "stdout",
     "output_type": "stream",
     "text": [
      "passive_phase=181.063764 °\n",
      "passive_gain=0.03450605872856853 V/V\n",
      "\n",
      "active_phase=180.20155608000002 °\n",
      "active_gain=45.3132644129474 V/V\n",
      "\n",
      "total_phase=361.26532008000004 °\n",
      "total_gain=1.5635821630163174 V/V\n",
      "\n"
     ]
    }
   ],
   "source": [
    "def get_phase_simulation(dt, freq):\n",
    "    return dt * freq * 360\n",
    "\n",
    "def get_gain_simulation(vi, vo):\n",
    "    return vi / vo\n",
    "\n",
    "passive_phase = get_phase_simulation(359.2535e-6, 1.4e3)\n",
    "passive_gain = get_gain_simulation(344.3798e-3, 9.9802705)\n",
    "\n",
    "print(f'{passive_phase=}', \"°\")\n",
    "print(f'{passive_gain=}', \"V/V\")\n",
    "print()\n",
    "active_phase = get_phase_simulation(357.54277e-6, 1.4e3)\n",
    "active_gain = get_gain_simulation(4.520913, 99.77019e-3)\n",
    "print(f'{active_phase=}', \"°\")\n",
    "print(f'{active_gain=}', \"V/V\")\n",
    "print()\n",
    "total_phase = active_phase + passive_phase\n",
    "total_gain = passive_gain * active_gain\n",
    "\n",
    "print(f'{total_phase=}', \"°\")\n",
    "print(f'{total_gain=}', \"V/V\")\n",
    "print()\n"
   ]
  },
  {
   "attachments": {},
   "cell_type": "markdown",
   "metadata": {},
   "source": [
    "#### Calculo para a frequencia natural"
   ]
  },
  {
   "cell_type": "code",
   "execution_count": 24,
   "metadata": {},
   "outputs": [
    {
     "name": "stdout",
     "output_type": "stream",
     "text": [
      "passive_phase=179.7187168224 °\n",
      "passive_gain=0.04034024065243758 V/V\n",
      "\n",
      "active_phase=180.8793159264 °\n",
      "active_gain=45.515723684599585 V/V\n",
      "\n",
      "total_phase=360.59803274880005 °\n",
      "total_gain=1.8361152469066002 V/V\n",
      "\n"
     ]
    }
   ],
   "source": [
    "passive_phase = get_phase_simulation(330.17107e-6, 1.512e3)\n",
    "passive_gain = get_gain_simulation(402.73317e-3, 9.9834102)\n",
    "\n",
    "print(f'{passive_phase=}', \"°\")\n",
    "print(f'{passive_gain=}', \"V/V\")\n",
    "print()\n",
    "active_phase = get_phase_simulation(332.30327e-6, 1.512e3)\n",
    "active_gain = get_gain_simulation(4.5411124, 99.77019e-3)\n",
    "print(f'{active_phase=}', \"°\")\n",
    "print(f'{active_gain=}', \"V/V\")\n",
    "print()\n",
    "total_phase = active_phase + passive_phase\n",
    "total_gain = passive_gain * active_gain\n",
    "\n",
    "print(f'{total_phase=}', \"°\")\n",
    "print(f'{total_gain=}', \"V/V\")\n",
    "print()"
   ]
  }
 ],
 "metadata": {
  "kernelspec": {
   "display_name": ".venv",
   "language": "python",
   "name": "python3"
  },
  "language_info": {
   "codemirror_mode": {
    "name": "ipython",
    "version": 3
   },
   "file_extension": ".py",
   "mimetype": "text/x-python",
   "name": "python",
   "nbconvert_exporter": "python",
   "pygments_lexer": "ipython3",
   "version": "3.11.3"
  },
  "orig_nbformat": 4
 },
 "nbformat": 4,
 "nbformat_minor": 2
}
