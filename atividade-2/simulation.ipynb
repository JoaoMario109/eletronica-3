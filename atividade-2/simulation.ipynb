{
 "cells": [
  {
   "cell_type": "code",
   "execution_count": 2,
   "metadata": {},
   "outputs": [
    {
     "name": "stdout",
     "output_type": "stream",
     "text": [
      "Note: you may need to restart the kernel to use updated packages.\n"
     ]
    }
   ],
   "source": [
    "%pip install -q scipy numpy quantiphy pandas control\n",
    "from quantiphy import Quantity"
   ]
  },
  {
   "cell_type": "code",
   "execution_count": 3,
   "metadata": {},
   "outputs": [],
   "source": [
    "def parse_ltspice_log(filename):\n",
    "\tf = open(filename, 'r')\n",
    "\tvalues = {}\n",
    "\tfor line in f:\n",
    "\t\tif \":\" in line and \"=\" in line:\n",
    "\t\t\tkey = line.split(\":\")[0]\n",
    "\t\t\ttry:\n",
    "\t\t\t\tvalues[key] = float(line.split(\"=\")[1].split()[0].replace(\"\\n\", \"\"))\n",
    "\t\t\texcept ValueError:\n",
    "\t\t\t\tcontinue\n",
    "\t\t\tif (key == \"phase_active\"):\n",
    "\t\t\t\tvalues[key] = -values[key]\n",
    "\tif (\"phase_active\" in values and \"phase_passive\" in values):\n",
    "\t\tvalues[\"phase_total\"] = values[\"phase_active\"] + values[\"phase_passive\"]\n",
    "\treturn values\n",
    "\n",
    "# Prints a given parameter with its unit and using multipliers\n",
    "def print_param_dict(name: str, dict: dict) -> None:\n",
    "\tprint(name, \":\")\n",
    "\tkeys = sorted(dict.keys())\n",
    "\tfor key in keys:\n",
    "\t\tunits = \"\"\n",
    "\t\t# Check if voltage\n",
    "\t\tif (key[0].lower() == \"v\"):\n",
    "\t\t\tunits = \"V\"\n",
    "\t\t# Check if gain\n",
    "\t\telif (\"gain\" in key.lower()):\n",
    "\t\t\tunits = \"V/V\"\n",
    "\t\t# Check if phase\n",
    "\t\telif (\"phase\" in key.lower()):\n",
    "\t\t\tunits = \"°\"\n",
    "\t\t# Check if freq\n",
    "\t\telif (\"freq\" in key.lower()):\n",
    "\t\t\tunits = \"Hz\"\t\n",
    "\n",
    "\t\tprint(\"\t\", key + \": \" + str(Quantity(dict[key])), units)\n",
    "\n"
   ]
  },
  {
   "attachments": {},
   "cell_type": "markdown",
   "metadata": {},
   "source": [
    "# 1- Projetar um oscilador RC por defasagem de fase para uma frequência de 1400Hz apresentado na figura 1. Com ampop LM324."
   ]
  },
  {
   "attachments": {},
   "cell_type": "markdown",
   "metadata": {},
   "source": [
    "Parâmetros do circuito: \n",
    "- C: 2.5784 nF\n",
    "- R: 18 kΩ\n",
    "- RF: 512 kΩ"
   ]
  },
  {
   "attachments": {},
   "cell_type": "markdown",
   "metadata": {},
   "source": [
    "# 2- Simule o circuito projetado"
   ]
  },
  {
   "attachments": {},
   "cell_type": "markdown",
   "metadata": {},
   "source": [
    "## Simulação\n",
    "<p align=\"center\">\n",
    "<img src=\"analises/assets/script/2-Simule_o_circuito_projetado.png\" width=\"75%\">\n",
    "</p>"
   ]
  },
  {
   "attachments": {},
   "cell_type": "markdown",
   "metadata": {},
   "source": [
    "## Grafico\n",
    "\n",
    "<p align=\"center\">\n",
    "<img src=\"analises/assets/script/2-Simule_o_circuito_projetado_plot.png\" width=\"75%\">\n",
    "</p>"
   ]
  },
  {
   "attachments": {},
   "cell_type": "markdown",
   "metadata": {},
   "source": [
    "## Analise\n",
    "\n",
    "Como é possivel observar o ganho total do sistema não é suficiente para que ocorra uma oscilação natural isto pode ser observado na simulação a seguir onde os bolocos não são realimentados"
   ]
  },
  {
   "attachments": {},
   "cell_type": "markdown",
   "metadata": {},
   "source": [
    "## Simulação dos blocos separados\n",
    "\n",
    "<p align=\"center\">\n",
    "<img src=\"analises/assets/script/2-Simule_o_circuito_projetado_separado.png\" width=\"75%\">\n",
    "</p>"
   ]
  },
  {
   "attachments": {},
   "cell_type": "markdown",
   "metadata": {},
   "source": [
    "## Grafico dos blocos separados\n",
    "\n",
    "<p align=\"center\">\n",
    "<img src=\"analises/assets/script/2-Simule_o_circuito_projetado_plot_separado.png\" width=\"75%\">\n",
    "</p>"
   ]
  },
  {
   "attachments": {},
   "cell_type": "markdown",
   "metadata": {},
   "source": [
    "## Medição"
   ]
  },
  {
   "cell_type": "code",
   "execution_count": 4,
   "metadata": {},
   "outputs": [
    {
     "name": "stdout",
     "output_type": "stream",
     "text": [
      "Blocos separados :\n",
      "\t frequency_active: 1.4k Hz\n",
      "\t frequency_passive: 1.4k Hz\n",
      "\t gain_active: 28.403 V/V\n",
      "\t gain_passive: 34.302m V/V\n",
      "\t gain_total: 974.29m V/V\n",
      "\t phase_active: -182.71 °\n",
      "\t phase_passive: -179.87 °\n",
      "\t phase_total: -362.58 °\n",
      "\t vin_active: 800m V\n",
      "\t vin_passive: 22.723 V\n",
      "\t vout_active: 22.723 V\n",
      "\t vout_passive: 779.43m V\n"
     ]
    }
   ],
   "source": [
    "print_param_dict(\"Blocos separados\", parse_ltspice_log(\"analises/1/script/2-Simule o circuito projetado_separado.log\"))"
   ]
  },
  {
   "attachments": {},
   "cell_type": "markdown",
   "metadata": {},
   "source": [
    "### Analise\n",
    "\n",
    "O ganho total do sistema é aproximadamente 0.97 o que cria uma realimentação negativa do sinal causando o amortecimento do mesmo até 0"
   ]
  },
  {
   "attachments": {},
   "cell_type": "markdown",
   "metadata": {},
   "source": [
    "# 3- Caso tenha ocorrido saturação da tensão de saída do ampop, reduza o ganho do bloco amplificador o máximo que puder, para isto varie o potenciômetro."
   ]
  },
  {
   "attachments": {},
   "cell_type": "markdown",
   "metadata": {},
   "source": [
    "## Simulação\n",
    "\n",
    "<p align=\"center\">\n",
    "<img src=\"analises/assets/script/3-Ajuste_potenciometro.png\" width=\"75%\">\n",
    "</p>"
   ]
  },
  {
   "attachments": {},
   "cell_type": "markdown",
   "metadata": {},
   "source": [
    "## Grafico\n",
    "\n",
    "<p align=\"center\">\n",
    "<img src=\"analises/assets/script/3-Ajuste_potenciometro_plot.png\" width=\"75%\">\n",
    "</p>"
   ]
  },
  {
   "attachments": {},
   "cell_type": "markdown",
   "metadata": {},
   "source": [
    "## Medição"
   ]
  },
  {
   "cell_type": "code",
   "execution_count": 5,
   "metadata": {},
   "outputs": [
    {
     "name": "stdout",
     "output_type": "stream",
     "text": [
      "Blocos separados :\n",
      "\t frequency_active: 1.5161k Hz\n",
      "\t frequency_passive: 1.5162k Hz\n",
      "\t gain_active: 44.928 V/V\n",
      "\t gain_passive: 22.258m V/V\n",
      "\t gain_total: 1 V/V\n",
      "\t phase_active: -185.27 °\n",
      "\t phase_passive: -185.28 °\n",
      "\t phase_total: -370.55 °\n",
      "\t vin_active: 382.55m V\n",
      "\t vin_passive: 17.188 V\n",
      "\t vout_active: 17.188 V\n",
      "\t vout_passive: 382.55m V\n"
     ]
    }
   ],
   "source": [
    "print_param_dict(\"Blocos separados\", parse_ltspice_log(\"analises/1/script/3-ajuste_potenciometro.log\"))"
   ]
  },
  {
   "attachments": {},
   "cell_type": "markdown",
   "metadata": {},
   "source": [
    "## Analise\n",
    "\n",
    "Existe um desvio de 129Hz aproximadamente"
   ]
  },
  {
   "attachments": {},
   "cell_type": "markdown",
   "metadata": {},
   "source": [
    "# 5- Analise o funcionamento e os critérios de Brakhausen para: (Utilize os circuitos das figuras 2 e 3)"
   ]
  },
  {
   "attachments": {},
   "cell_type": "markdown",
   "metadata": {},
   "source": [
    "## Para a frequência projetada"
   ]
  },
  {
   "attachments": {},
   "cell_type": "markdown",
   "metadata": {},
   "source": [
    "### Simulação\n",
    "\n",
    "**Circuito**\n",
    "\n",
    "<p align=\"center\">\n",
    "<img src=\"analises/assets/script/5-analise_Brakhausen_1400Hz_A_B.png\" width=\"75%\">\n",
    "</p>\n",
    "\n",
    "<div align=\"center\">\n",
    "<p style=\"text-align:left;\">\n",
    "    <b> A-B </b>\n",
    "    <span style=\"position:absolute; left:50%;\">\n",
    "        <b> B-A </b>\n",
    "    </span>\n",
    "</p>\n",
    "<img src=\"analises/assets/script/5-analise_Brakhausen_1400Hz_A_B_zoom.png\" width=\"45%\">\n",
    "<img src=\"analises/assets/script/5-analise_Brakhausen_1400Hz_B_A_zoom.png\" width=\"45%\"> \n",
    "</div>"
   ]
  },
  {
   "attachments": {},
   "cell_type": "markdown",
   "metadata": {},
   "source": [
    "### Grafico\n",
    "\n",
    "<div align=\"center\">\n",
    "<p style=\"text-align:left;\">\n",
    "    <b> A-B </b>\n",
    "    <span style=\"position:absolute; left:50%;\">\n",
    "        <b> B-A </b>\n",
    "    </span>\n",
    "</p>\n",
    "<img src=\"analises/assets/script/5-analise_Brakhausen_1400Hz_A_B_plot.png\" width=\"45%\">\n",
    "<img src=\"analises/assets/script/5-analise_Brakhausen_1400Hz_B_A_plot.png\" width=\"45%\"> \n",
    "</div>"
   ]
  },
  {
   "attachments": {},
   "cell_type": "markdown",
   "metadata": {},
   "source": [
    "### Medição"
   ]
  },
  {
   "cell_type": "code",
   "execution_count": 6,
   "metadata": {},
   "outputs": [
    {
     "name": "stdout",
     "output_type": "stream",
     "text": [
      "Blocos A-B :\n",
      "\t frequency_active: 1.4k Hz\n",
      "\t frequency_passive: 1.4k Hz\n",
      "\t gain_active: 44.951 V/V\n",
      "\t gain_passive: 34.136m V/V\n",
      "\t gain_total: 1.5344 V/V\n",
      "\t phase_active: 175.79 °\n",
      "\t phase_passive: 180.16 °\n",
      "\t phase_total: 355.95 °\n",
      "\t vin_active: 600m V\n",
      "\t vin_passive: 26.97 V\n",
      "\t vout_active: 26.97 V\n",
      "\t vout_passive: 920.66m V\n",
      "Blocos B-A :\n",
      "\t frequency_active: 1.4k Hz\n",
      "\t frequency_passive: 1.4k Hz\n",
      "\t gain_active: 44.935 V/V\n",
      "\t gain_passive: 18.849m V/V\n",
      "\t gain_total: 846.98m V/V\n",
      "\t phase_active: -184.76 °\n",
      "\t phase_passive: -190.15 °\n",
      "\t phase_total: -374.9 °\n",
      "\t vin_active: 452.37m V\n",
      "\t vin_passive: 24 V\n",
      "\t vout_active: 20.327 V\n",
      "\t vout_passive: 452.37m V\n"
     ]
    }
   ],
   "source": [
    "print_param_dict(\"Blocos A-B\", parse_ltspice_log(\"analises/1/script/5-analise_Brakhausen_1400Hz_A_B.log\"))\n",
    "print_param_dict(\"Blocos B-A\", parse_ltspice_log(\"analises/1/script/5-analise_Brakhausen_1400Hz_B_A.log\"))"
   ]
  },
  {
   "attachments": {},
   "cell_type": "markdown",
   "metadata": {},
   "source": [
    "### Analise\n",
    "\n",
    "Nenhum dos dois circuitos cumprem os criterios de Brakhausen, quando o bloco passivo é conectado no ativo a fase é um pouco maior que 360° e o ganho é 50% acima de 1 V/V, já quando o ativo é conectado no passivo a fase é um pouco menor 360° e o ganho diminui bastante (0.84 V/V)"
   ]
  },
  {
   "attachments": {},
   "cell_type": "markdown",
   "metadata": {},
   "source": [
    "## Para a frequencia natural (1.5161kHz)"
   ]
  },
  {
   "attachments": {},
   "cell_type": "markdown",
   "metadata": {},
   "source": [
    "### Simulação\n",
    "\n",
    "**Circuito**\n",
    "\n",
    "<p align=\"center\">\n",
    "<img src=\"analises/assets/script/5-analise_Brakhausen_1516Hz_A_B.png\" width=\"75%\">\n",
    "</p>\n",
    "\n",
    "<div align=\"center\">\n",
    "<p style=\"text-align:left;\">\n",
    "    <b> A-B </b>\n",
    "    <span style=\"position:absolute; left:50%;\">\n",
    "        <b> B-A </b>\n",
    "    </span>\n",
    "</p>\n",
    "<img src=\"analises/assets/script/5-analise_Brakhausen_1516Hz_A_B_zoom.png\" width=\"45%\">\n",
    "<img src=\"analises/assets/script/5-analise_Brakhausen_1516Hz_B_A_zoom.png\" width=\"45%\"> \n",
    "</div>"
   ]
  },
  {
   "attachments": {},
   "cell_type": "markdown",
   "metadata": {},
   "source": [
    "### Grafico\n",
    "\n",
    "<div align=\"center\">\n",
    "<p style=\"text-align:left;\">\n",
    "    <b> A-B </b>\n",
    "    <span style=\"position:absolute; left:50%;\">\n",
    "        <b> B-A </b>\n",
    "    </span>\n",
    "</p>\n",
    "<img src=\"analises/assets/script/5-analise_Brakhausen_1516Hz_A_B_plot.png\" width=\"45%\">\n",
    "<img src=\"analises/assets/script/5-analise_Brakhausen_1516Hz_B_A_plot.png\" width=\"45%\"> \n",
    "</div>"
   ]
  },
  {
   "attachments": {},
   "cell_type": "markdown",
   "metadata": {},
   "source": [
    "### Medição"
   ]
  },
  {
   "cell_type": "code",
   "execution_count": 7,
   "metadata": {},
   "outputs": [
    {
     "name": "stdout",
     "output_type": "stream",
     "text": [
      "Bloco A: Ativo\n",
      "Bloco B: Passivo\n",
      "\n",
      "Blocos A-B :\n",
      "\t frequency_active: 1.5161k Hz\n",
      "\t frequency_passive: 1.5161k Hz\n",
      "\t gain_active: 44.926 V/V\n",
      "\t gain_passive: 40.104m V/V\n",
      "\t gain_total: 1.8017 V/V\n",
      "\t phase_active: -184.54 °\n",
      "\t phase_passive: -175.24 °\n",
      "\t phase_total: -359.78 °\n",
      "\t vin_active: 600m V\n",
      "\t vin_passive: 26.956 V\n",
      "\t vout_active: 26.956 V\n",
      "\t vout_passive: 1.081 V\n",
      "Blocos B-A :\n",
      "\t frequency_active: 1.516k Hz\n",
      "\t frequency_passive: 1.516k Hz\n",
      "\t gain_active: 44.909 V/V\n",
      "\t gain_passive: 22.367m V/V\n",
      "\t gain_total: 1.0045 V/V\n",
      "\t phase_active: 175.01 °\n",
      "\t phase_passive: 174.15 °\n",
      "\t phase_total: 349.15 °\n",
      "\t vin_active: 536.81m V\n",
      "\t vin_passive: 24 V\n",
      "\t vout_active: 24.108 V\n",
      "\t vout_passive: 536.81m V\n"
     ]
    }
   ],
   "source": [
    "print(\"Bloco A: Ativo\")\n",
    "print(\"Bloco B: Passivo\")\n",
    "print()\n",
    "\n",
    "print_param_dict(\"Blocos A-B\", parse_ltspice_log(\"analises/1/script/5-analise_Brakhausen_1516Hz_A_B.log\"))\n",
    "print_param_dict(\"Blocos B-A\", parse_ltspice_log(\"analises/1/script/5-analise_Brakhausen_1516Hz_B_A.log\"))"
   ]
  },
  {
   "attachments": {},
   "cell_type": "markdown",
   "metadata": {},
   "source": [
    "### Analise\n",
    "\n",
    "Quando o bloco ativo é conectado no passivo para a frequencia natural o oscilador cumpre os criterios de Brakhausen para a fase (360°), porém para ganho é relativemnte maior do que necessario para cumprir o criterio isso pode explicar a leve saturação na oscilação.\n",
    "Já quando o ativo é conectado no passivo existe uma desviação do criterio de Brakhausen, a causa dessa desviação vai ser abordada no seguinte item\n",
    "\n"
   ]
  },
  {
   "attachments": {},
   "cell_type": "markdown",
   "metadata": {},
   "source": [
    "# 6- Verifique via simulação a influência das impedâncias de entrada e saída dos blocos A e B.\n",
    "\n",
    "Sera analisado a influencia do bloco A no bloco B porque segundo a simulação anterior o bloco A está influenciando o bloco B\n"
   ]
  },
  {
   "attachments": {},
   "cell_type": "markdown",
   "metadata": {},
   "source": [
    "## Simulação\n",
    "\n",
    "**Circuito**\n",
    "\n",
    "<p align=\"center\">\n",
    "<img src=\"analises/assets/script/6-analise_impedancia_1516Hz_B_A.png\" width=\"75%\">\n",
    "</p>\n",
    "\n",
    "<div align=\"center\">\n",
    "<p style=\"text-align:left;\">\n",
    "    <b> A-B </b>\n",
    "    <span style=\"position:absolute; left:50%;\">\n",
    "        <b> B-A </b>\n",
    "    </span>\n",
    "</p>\n",
    "<img src=\"analises/assets/script/6-analise_impedancia_1516Hz_B_A_zoom.png\" width=\"45%\">\n",
    "<img src=\"analises/assets/script/6-analise_impedancia_1516Hz_B_zoom.png\" width=\"45%\"> \n",
    "</div>"
   ]
  },
  {
   "attachments": {},
   "cell_type": "markdown",
   "metadata": {},
   "source": [
    "## Grafico\n",
    "\n",
    "<div align=\"center\">\n",
    "<p style=\"text-align:left;\">\n",
    "    <b> B-A </b>\n",
    "    <span style=\"position:absolute; left:50%;\">\n",
    "        <b> B </b>\n",
    "    </span>\n",
    "</p>\n",
    "<img src=\"analises/assets/script/6-analise_impedancia_1516Hz_B_A_plot.png\" width=\"45%\">\n",
    "<img src=\"analises/assets/script/6-analise_impedancia_1516Hz_B_plot.png\" width=\"45%\"> \n",
    "</div>"
   ]
  },
  {
   "attachments": {},
   "cell_type": "markdown",
   "metadata": {},
   "source": [
    "## Medição"
   ]
  },
  {
   "cell_type": "code",
   "execution_count": 8,
   "metadata": {},
   "outputs": [
    {
     "name": "stdout",
     "output_type": "stream",
     "text": [
      "Bloco A: Ativo\n",
      "Bloco B: Passivo\n",
      "\n",
      "Blocos B-A :\n",
      "\t frequency_active: 1.516k Hz\n",
      "\t frequency_passive: 1.516k Hz\n",
      "\t gain_active: 44.909 V/V\n",
      "\t gain_passive: 22.367m V/V\n",
      "\t gain_total: 1.0045 V/V\n",
      "\t phase_active: 175.01 °\n",
      "\t phase_passive: 174.15 °\n",
      "\t phase_total: 349.15 °\n",
      "\t vin_active: 536.81m V\n",
      "\t vin_passive: 24 V\n",
      "\t vout_active: 24.108 V\n",
      "\t vout_passive: 536.81m V\n",
      "Blocos B :\n",
      "\t frequency_passive: 1.516k Hz\n",
      "\t gain_passive: 40.546m V/V\n",
      "\t phase_passive: 184.65 °\n",
      "\t vin_active: 0 V\n",
      "\t vin_passive: 24 V\n",
      "\t vout_active: 0 V\n",
      "\t vout_passive: 973.09m V\n"
     ]
    }
   ],
   "source": [
    "print(\"Bloco A: Ativo\")\n",
    "print(\"Bloco B: Passivo\")\n",
    "print()\n",
    "\n",
    "print_param_dict(\"Blocos B-A\", parse_ltspice_log(\"analises/1/script/6-analise_impedancia_1516Hz_B_A.log\"))\n",
    "print_param_dict(\"Blocos B\", parse_ltspice_log(\"analises/1/script/6-analise_impedancia_1516Hz_B.log\"))"
   ]
  },
  {
   "attachments": {},
   "cell_type": "markdown",
   "metadata": {},
   "source": [
    "## Analise\n",
    "\n",
    "Ao colocar o bloco A na saida do bloco B existe uma dimição do ganho passivo como também uma alteração na fase, isso quer dizer que a impedancia de entrada do bloco A esta afetando o bloco B"
   ]
  },
  {
   "attachments": {},
   "cell_type": "markdown",
   "metadata": {},
   "source": [
    "# 7- Calcule a impedância de entrada e de saída dos blocos A e B"
   ]
  },
  {
   "attachments": {},
   "cell_type": "markdown",
   "metadata": {},
   "source": [
    "## Calculos"
   ]
  },
  {
   "attachments": {},
   "cell_type": "markdown",
   "metadata": {},
   "source": [
    "=====================>> Adicionar caluclo impedancia"
   ]
  },
  {
   "attachments": {},
   "cell_type": "markdown",
   "metadata": {},
   "source": [
    "## Analise\n",
    "\n",
    "A impedancia de entrada do circuito ativo é igual a R3 e como R3 é igual a R6, na visão do circuito passivo o ultimo resistor (R6) acaba sendo o paralelo entre R3 e R6 o que é igual a $ \\frac{R6}{2}$"
   ]
  },
  {
   "attachments": {},
   "cell_type": "markdown",
   "metadata": {},
   "source": [
    "# 8- Altere o valor de R10 para que o circuito oscile na frequência desejada. Explique"
   ]
  },
  {
   "attachments": {},
   "cell_type": "markdown",
   "metadata": {},
   "source": [
    "## Calculos\n",
    "\n",
    "Como na visão do circuito passivo a impedancia do ultimo resistor é igual ao paralelo de R3 e R6 pode ser usando o dobro do valor nos dois resistores resultando para a visão do circuito passivo que R6 está no valor calculado. E o valor de Rf tem que ser recalculado para o novo valor de R3\n",
    "\n",
    "**Novos valores**\n",
    "\n",
    "Parâmetros do circuito: \n",
    "- C: 2.5784 nF\n",
    "- R: 18 kΩ\n",
    "- RD: 35.999 kΩ\n",
    "- RF: 1024 kΩ\n"
   ]
  },
  {
   "attachments": {},
   "cell_type": "markdown",
   "metadata": {},
   "source": [
    "## Simulação\n",
    "\n",
    "<p align=\"center\">\n",
    "<img src=\"analises/assets/script/8-novo_valor_R3.png\" width=\"75%\">\n",
    "</p>"
   ]
  },
  {
   "attachments": {},
   "cell_type": "markdown",
   "metadata": {},
   "source": [
    "## Grafico\n",
    "\n",
    "<p align=\"center\">\n",
    "<img src=\"analises/assets/script/8-novo_valor_R3_plot.png\" width=\"75%\">\n",
    "</p>\n"
   ]
  },
  {
   "attachments": {},
   "cell_type": "markdown",
   "metadata": {},
   "source": [
    "## Medidas"
   ]
  },
  {
   "cell_type": "code",
   "execution_count": 9,
   "metadata": {},
   "outputs": [
    {
     "name": "stdout",
     "output_type": "stream",
     "text": [
      "Alteração em R3 :\n",
      "\t frequency_active: 1.3447k Hz\n",
      "\t frequency_passive: 1.3447k Hz\n",
      "\t gain_active: 31.163 V/V\n",
      "\t gain_passive: 32.089m V/V\n",
      "\t gain_total: 1 V/V\n",
      "\t phase_active: 175.97 °\n",
      "\t phase_passive: 175.98 °\n",
      "\t phase_total: 351.95 °\n",
      "\t vin_active: 226.17m V\n",
      "\t vin_passive: 7.0481 V\n",
      "\t vout_active: 7.0481 V\n",
      "\t vout_passive: 226.17m V\n"
     ]
    }
   ],
   "source": [
    "print_param_dict(\"Alteração em R3\", parse_ltspice_log(\"analises/1/script/8-novo_valor_R3.log\"))"
   ]
  },
  {
   "attachments": {},
   "cell_type": "markdown",
   "metadata": {},
   "source": [
    "## Analise\n",
    "\n",
    "O ajuste de R3 permitiu maior precissão na frequencia de oscilação como no ganho (o potenciometro de feedback precisou de 100k em vez de 100k)"
   ]
  },
  {
   "attachments": {},
   "cell_type": "markdown",
   "metadata": {},
   "source": [
    "## Otimização pelas não idealidades do ampop"
   ]
  },
  {
   "attachments": {},
   "cell_type": "markdown",
   "metadata": {},
   "source": [
    "#### Calculos\n",
    "\n",
    "Foi modelado o ampop como um ganho ideal com um filtro passa baixa RC\n",
    "\n",
    "<img src=\"analises/assets/lm324_model.png\">\n",
    "\n",
    "Foi utilizada uma simulação de malha aberta de um lm324 para criar o modelo, os vlaores achados foram:\n",
    "Lm324 model:\n",
    "- R: 25.293 R\n",
    "- C: 436.89 nF\n",
    "- open_loop_gain: 40.099 dB\n",
    "\n",
    "E com esse modelo foi achado um valor para R4 para chegar em uma frequencia mais proximo do desejado, o valor de R4 achado foi: 14.189k"
   ]
  },
  {
   "attachments": {},
   "cell_type": "markdown",
   "metadata": {},
   "source": [
    "#### Simulação\n",
    "\n",
    "<p align=\"center\">\n",
    "<img src=\"analises/assets/script/8-novo_valor_R3_opt.png\" width=\"75%\">\n",
    "</p>"
   ]
  },
  {
   "attachments": {},
   "cell_type": "markdown",
   "metadata": {},
   "source": [
    "#### Grafico\n",
    "\n",
    "\n",
    "<p align=\"center\">\n",
    "<img src=\"analises/assets/script/8-novo_valor_R3_opt_plot.png\" width=\"75%\">\n",
    "</p>\n"
   ]
  },
  {
   "attachments": {},
   "cell_type": "markdown",
   "metadata": {},
   "source": [
    "#### Medição"
   ]
  },
  {
   "cell_type": "code",
   "execution_count": 10,
   "metadata": {},
   "outputs": [
    {
     "name": "stdout",
     "output_type": "stream",
     "text": [
      "Alteração em R3 :\n",
      "\t frequency_active: 1.4747k Hz\n",
      "\t frequency_passive: 1.4747k Hz\n",
      "\t gain_active: 25.068 V/V\n",
      "\t gain_passive: 39.892m V/V\n",
      "\t gain_total: 1 V/V\n",
      "\t phase_active: -184.78 °\n",
      "\t phase_passive: -184.78 °\n",
      "\t phase_total: -369.56 °\n",
      "\t vin_active: 1.1314 V\n",
      "\t vin_passive: 28.363 V\n",
      "\t vout_active: 28.363 V\n",
      "\t vout_passive: 1.1314 V\n"
     ]
    }
   ],
   "source": [
    "print_param_dict(\"Alteração em R3\", parse_ltspice_log(\"analises/1/script/8-novo_valor_R3_opt.log\"))"
   ]
  },
  {
   "attachments": {},
   "cell_type": "markdown",
   "metadata": {},
   "source": [
    "#### Analise\n",
    "\n",
    "O valor achado com a otimização aproximou mais da frequencia desejada porém ultrapasou ela, o que significa que o modelo é um pouco pessimista em relação ao ampop"
   ]
  }
 ],
 "metadata": {
  "kernelspec": {
   "display_name": ".venv",
   "language": "python",
   "name": "python3"
  },
  "language_info": {
   "codemirror_mode": {
    "name": "ipython",
    "version": 3
   },
   "file_extension": ".py",
   "mimetype": "text/x-python",
   "name": "python",
   "nbconvert_exporter": "python",
   "pygments_lexer": "ipython3",
   "version": "3.11.3"
  },
  "orig_nbformat": 4
 },
 "nbformat": 4,
 "nbformat_minor": 2
}
