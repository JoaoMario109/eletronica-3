{
 "cells": [
  {
   "cell_type": "code",
   "execution_count": 1,
   "metadata": {},
   "outputs": [
    {
     "name": "stdout",
     "output_type": "stream",
     "text": [
      "Note: you may need to restart the kernel to use updated packages.\n"
     ]
    }
   ],
   "source": [
    "%pip install -q scipy numpy quantiphy pandas control"
   ]
  },
  {
   "cell_type": "code",
   "execution_count": 4,
   "metadata": {},
   "outputs": [],
   "source": [
    "import scipy as sci\n",
    "from scipy.optimize import curve_fit\n",
    "from scipy.optimize import minimize\n",
    "import numpy as np\n",
    "import pandas as pd\n",
    "import control\n",
    "import matplotlib.pyplot as plt\n",
    "from matplotlib.ticker import LogLocator\n",
    "from quantiphy import Quantity\n",
    "import cmath\n",
    "from typing import Optional, List, Tuple"
   ]
  },
  {
   "cell_type": "code",
   "execution_count": 5,
   "metadata": {},
   "outputs": [],
   "source": [
    "# Prints a given parameter with its unit and using multipliers\n",
    "def print_param(name: str, value: float, unit: str = \"\") -> None:\n",
    "\tprint(name + \": \" + str(Quantity(value, unit)))\n",
    "\n",
    "\n",
    "# Converts a log value to a linear value\n",
    "def log_2_linear(gain: float) -> float:\n",
    "\treturn 10.0 ** (gain / 20.0)\n",
    "\n",
    "\n",
    "# Converts a linear value to a log value\n",
    "def linear_2_log(gain: float) -> float:\n",
    "\treturn 20.0 * np.log10(gain)\n",
    "\n",
    "\n",
    "# Commercial EE values list\n",
    "def get_EE_list(limit: int = 21, lower = 0, pack: Optional[ List[ float ] ] = None) -> List[ float ]:\n",
    "\treturn [x * (10 ** i) for i in range(pack[1] if pack else lower, pack[0] if pack else limit) for x in [ 1.5e-12, 1.8e-12, 2.2e-12, 2.7e-12, 3.3e-12, 4.7e-12, 5.1e-12, 6.8e-12, 7.5e-12, 8.2e-12, 9.1e-12, 10e-12 ]]\n",
    "\n",
    "\n",
    "def get_EE_limit_from_value(value: float) -> List[ int ]:\n",
    "\torder = np.floor(np.log10(value))\n",
    "\treturn [ int(13 + order), int((13 + order) - 1) ]\n",
    "\n",
    "\n",
    "# Find the best fit for the closest comercial value in the EE list\n",
    "def round_to_commercial(value: float) -> float:\n",
    "\tEE: List[ float ] = get_EE_list()\n",
    "\tindex: int = 0\n",
    "\tclose: float = np.inf\n",
    "\tfor i, val in enumerate(EE):\n",
    "\t\tdiff = val - value\n",
    "\t\tif np.abs(diff) < close:\n",
    "\t\t\tclose = np.abs(diff)\n",
    "\t\t\tindex = i\n",
    "\treturn EE[index]\n"
   ]
  },
  {
   "cell_type": "code",
   "execution_count": 13,
   "metadata": {},
   "outputs": [
    {
     "name": "stdout",
     "output_type": "stream",
     "text": [
      "------------------------------------------------------------------\n",
      "Parâmetros do circuito: \n",
      "    - Ideal C: 2.5784 nF\n",
      "    - Ideal R: 18 kΩ\n",
      "    - Ideal RD: 35.999 kΩ\n",
      "    - Ideal RF: 1.044 MΩ\n",
      "\n",
      "    - Comercial C: 2.5784 nF\n",
      "    - Comercial R: 18 kΩ\n",
      "    - Comercial RD: 33 kΩ\n",
      "    - Comercial RF: 1 MΩ\n",
      "------------------------------------------------------------------\n",
      "Parâmetros para o LTSpice: \n",
      "    - Ideal:\n",
      "\t.param C=2.5784n R=18k RD=35.999k RF=1.044M\n",
      "    - Comercial:\n",
      "\t.param C=2.5784n R=18k RD=33k RF=1M\n",
      "------------------------------------------------------------------\n",
      "Valor de frequência comercial      : 1.4 kHz\n",
      "Valor de frequência comercial (MIN): 1.2121 kHz\n",
      "Valor de frequência comercial (MAX): 1.6374 kHz\n",
      "------------------------------------------------------------------\n"
     ]
    }
   ],
   "source": [
    "# Oscilation frequency\n",
    "fosc: float = 1400\n",
    "\n",
    "# Angular velocity\n",
    "wc: float = 2 * np.pi * fosc\n",
    "\n",
    "# Searches for the best component fit\n",
    "last_diff: int = 9999999\n",
    "res: List[ float ] = []\n",
    "for C in [ 2.5784e-9 ]:\n",
    "\tR = 1 / (2 * np.pi * np.sqrt(6) * C * fosc)\n",
    "\tRD = 2 * R\n",
    "\tRH = R / 2\n",
    "\tRF = 29 * RD\n",
    "\tR_commercial = round_to_commercial(R)\n",
    "\tRH_commercial = round_to_commercial(RH)\n",
    "\tRD_commercial = round_to_commercial(RD)\n",
    "\tRF_commercial = round_to_commercial(RF)\n",
    "\ttotal_diff = np.abs(R_commercial - R) + np.abs(RF_commercial - RF) + np.abs(RH_commercial - RH)\n",
    "\tif (total_diff < last_diff):\n",
    "\t\tlast_diff = total_diff\n",
    "\t\tres = [ C, R, RD, RF, R_commercial, RD_commercial, RF_commercial ]\n",
    "\n",
    "# Fetches saved value\n",
    "[ C, R, RD, RF, R_commercial, RD_commercial, RF_commercial ] = res\n",
    "\n",
    "print(\"------------------------------------------------------------------\")\n",
    "print(\"Parâmetros do circuito: \")\n",
    "print_param(\"    - Ideal C\", C, \"F\")\n",
    "print_param(\"    - Ideal R\", R, \"Ω\")\n",
    "print_param(\"    - Ideal RD\", RD, \"Ω\")\n",
    "print_param(\"    - Ideal RF\", RF, \"Ω\")\n",
    "print()\n",
    "print_param(\"    - Comercial C\", C, \"F\")\n",
    "print_param(\"    - Comercial R\", R_commercial, \"Ω\")\n",
    "print_param(\"    - Comercial RD\", RD_commercial, \"Ω\")\n",
    "print_param(\"    - Comercial RF\", RF_commercial, \"Ω\")\n",
    "print(\"------------------------------------------------------------------\")\n",
    "print(\"Parâmetros para o LTSpice: \")\n",
    "print(\"    - Ideal:\")\n",
    "print(f\"\\t.param C={Quantity(C)} R={Quantity(R)} RD={Quantity(RD)} RF={Quantity(RF)}\")\n",
    "print(\"    - Comercial:\")\n",
    "print(f\"\\t.param C={Quantity(C)} R={Quantity(R_commercial)} RD={Quantity(RD_commercial)} RF={Quantity(RF_commercial)}\")\n",
    "\n",
    "FC_commercial = 1 / (np.pi * 2 * C * R_commercial * np.sqrt(6))\n",
    "FC_commercial_min = 1 / (np.pi * 2 * (C * 1.1) * (R_commercial * 1.05) * np.sqrt(6))\n",
    "FC_commercial_max = 1 / (np.pi * 2 * (C * 0.9) * (R_commercial * 0.95) * np.sqrt(6))\n",
    "print(\"------------------------------------------------------------------\")\n",
    "print_param(\"Valor de frequência comercial      \", FC_commercial, \"Hz\")\n",
    "print_param(\"Valor de frequência comercial (MIN)\", FC_commercial_min, \"Hz\")\n",
    "print_param(\"Valor de frequência comercial (MAX)\", FC_commercial_max, \"Hz\")\n",
    "print(\"------------------------------------------------------------------\")"
   ]
  }
 ],
 "metadata": {
  "kernelspec": {
   "display_name": ".venv",
   "language": "python",
   "name": "python3"
  },
  "language_info": {
   "codemirror_mode": {
    "name": "ipython",
    "version": 3
   },
   "file_extension": ".py",
   "mimetype": "text/x-python",
   "name": "python",
   "nbconvert_exporter": "python",
   "pygments_lexer": "ipython3",
   "version": "3.11.3"
  },
  "orig_nbformat": 4
 },
 "nbformat": 4,
 "nbformat_minor": 2
}
